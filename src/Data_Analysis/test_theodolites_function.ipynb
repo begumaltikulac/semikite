{
 "cells": [
  {
   "cell_type": "code",
   "id": "initial_id",
   "metadata": {
    "collapsed": true,
    "ExecuteTime": {
     "end_time": "2025-09-02T09:47:34.877722Z",
     "start_time": "2025-09-02T09:47:34.869119Z"
    }
   },
   "source": [
    "import numpy as np\n",
    "import matplotlib.pyplot as plt\n",
    "import pandas as pd\n",
    "import xarray as xr\n",
    "from datetime import timedelta, datetime\n",
    "from function_interpolate_1theodolite import process_lidar_1theodolite\n",
    "from function_interpolate_2theodolites import process_lidar_2theodolite"
   ],
   "outputs": [],
   "execution_count": 9
  },
  {
   "metadata": {
    "ExecuteTime": {
     "end_time": "2025-09-02T09:38:53.777363Z",
     "start_time": "2025-09-02T09:38:52.415389Z"
    }
   },
   "cell_type": "code",
   "source": "ds_lidar = xr.open_dataset(\"Data_Lidar/20250829/combined_20250829.nc\")",
   "id": "4c6188dd4645f35c",
   "outputs": [],
   "execution_count": 2
  },
  {
   "metadata": {
    "ExecuteTime": {
     "end_time": "2025-09-02T09:49:34.509477Z",
     "start_time": "2025-09-02T09:49:34.469600Z"
    }
   },
   "cell_type": "code",
   "source": [
    "lidar_data, theo_data = process_lidar_2theodolite(\n",
    "    lidar_file=\"Data_Lidar/20250829/combined_20250829.nc\",\n",
    "    theoGelb_file=\"Data_Theodolite/TheoGelb_20250829_124013.txt\",\n",
    "    theoRot_file=\"Data_Theodolite/TheoRot_20250829_123352.txt\",\n",
    "    date_str=\"2025-08-29\",\n",
    "    start_time_str=\"08:31:08\",\n",
    ")"
   ],
   "id": "5f47d560858e8df4",
   "outputs": [
    {
     "name": "stdout",
     "output_type": "stream",
     "text": [
      "Metadata: S 25/08/29 08:31:09\n",
      "Metadata: S 25/08/29 08:31:08\n"
     ]
    }
   ],
   "execution_count": 10
  },
  {
   "metadata": {},
   "cell_type": "code",
   "outputs": [],
   "execution_count": null,
   "source": [
    "lidar_data, theo_data = process_lidar_1theodolite(\n",
    "    lidar_file=\"Data_Lidar/20250829/combined_20250829.nc\",\n",
    "    theo_file=\"Data_Theodolite/TheoRot_20250827_150544.txt\",\n",
    "    date_str=\"2025-08-27\",\n",
    "    start_time_str=\"09:08:09\",\n",
    "    azimuth_offset=(231.1 - 123.93)   # wie in deinem Skript\n",
    ")"
   ],
   "id": "e2a1df01db42077d"
  },
  {
   "metadata": {},
   "cell_type": "code",
   "outputs": [],
   "execution_count": null,
   "source": "",
   "id": "7c3a6a53d8e74ab5"
  }
 ],
 "metadata": {
  "kernelspec": {
   "display_name": "Python 3",
   "language": "python",
   "name": "python3"
  },
  "language_info": {
   "codemirror_mode": {
    "name": "ipython",
    "version": 2
   },
   "file_extension": ".py",
   "mimetype": "text/x-python",
   "name": "python",
   "nbconvert_exporter": "python",
   "pygments_lexer": "ipython2",
   "version": "2.7.6"
  }
 },
 "nbformat": 4,
 "nbformat_minor": 5
}

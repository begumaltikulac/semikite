{
 "cells": [
  {
   "cell_type": "code",
   "id": "initial_id",
   "metadata": {
    "collapsed": true,
    "ExecuteTime": {
     "end_time": "2025-09-04T12:41:05.883174Z",
     "start_time": "2025-09-04T12:41:05.799470Z"
    }
   },
   "source": "from function_calculation_elevation_from_GPS import process_elevation_gps",
   "outputs": [],
   "execution_count": 1
  },
  {
   "metadata": {
    "ExecuteTime": {
     "end_time": "2025-09-04T12:41:06.912568Z",
     "start_time": "2025-09-04T12:41:05.887324Z"
    }
   },
   "cell_type": "code",
   "source": [
    "# 2025-08-27\n",
    "gps_file = \"Data_Radiosonde/GpsResults.xlsx\"\n",
    "lidar_file = \"Data_Lidar/20250827/combined_20250827.nc\"\n",
    "theo_file = \"Data_Theodolite/TheoRot_20250827_150544.txt\"\n",
    "alt_file = \"Data_Altitude/20250827_altitude_kite_from_wxt.csv\"\n",
    "date_str = \"2025-08-27\"\n",
    "start_time_str = \"09:08:09\"\n",
    "output_csv = \"Data_ElevationAngle_GPS/20250827.csv\"\n",
    "\n",
    "process_elevation_gps(gps_file, lidar_file,theo_file, alt_file, date_str, start_time_str,output_csv)"
   ],
   "id": "3c71d287c450af53",
   "outputs": [
    {
     "name": "stdout",
     "output_type": "stream",
     "text": [
      "Metadata: S 25/08/27 09:08:09\n",
      "Saved elevation data → Data_ElevationAngle_GPS/20250827.csv\n"
     ]
    }
   ],
   "execution_count": 2
  },
  {
   "metadata": {
    "ExecuteTime": {
     "end_time": "2025-09-04T12:41:10.164Z",
     "start_time": "2025-09-04T12:41:06.983371Z"
    }
   },
   "cell_type": "code",
   "source": [
    "# 2025-09-01, 1st period\n",
    "gps_file = \"Data_Radiosonde/20250901/GpsResults.xlsx\"\n",
    "lidar_file = \"Data_Lidar/20250901/combined_20250901.nc\"\n",
    "theo_file = \"Data_Theodolite/TheoGelb_20250901_1st_period.txt\"\n",
    "alt_file = \"Data_Altitude/20250901_altitude_kite_from_wxt.csv\"\n",
    "date_str = \"2025-09-01\"\n",
    "start_time_str = \" 09:03:20\"\n",
    "output_csv = \"Data_ElevationAngle_GPS/20250901_1stperiod.csv\"\n",
    "\n",
    "process_elevation_gps(gps_file, lidar_file,\n",
    "    theo_file,\n",
    "    alt_file,\n",
    "    date_str,\n",
    "    start_time_str,\n",
    "    output_csv)"
   ],
   "id": "a69e9f4f27545e63",
   "outputs": [
    {
     "name": "stdout",
     "output_type": "stream",
     "text": [
      "Metadata: S 25/09/01 09:03:20\n",
      "Saved elevation data → Data_ElevationAngle_GPS/20250901_1stperiod.csv\n"
     ]
    }
   ],
   "execution_count": 3
  },
  {
   "metadata": {
    "ExecuteTime": {
     "end_time": "2025-09-04T12:41:13.318211Z",
     "start_time": "2025-09-04T12:41:10.168755Z"
    }
   },
   "cell_type": "code",
   "source": [
    "# 2025-09-01, 2nd period\n",
    "gps_file = \"Data_Radiosonde/20250901/GpsResults.xlsx\"\n",
    "lidar_file = \"Data_Lidar/20250901/combined_20250901.nc\"\n",
    "theo_file = \"Data_Theodolite/TheoGelb_20250901_2nd_period.txt\"\n",
    "alt_file = \"Data_Altitude/20250901_altitude_kite_from_wxt.csv\"\n",
    "date_str = \"2025-09-01\"\n",
    "start_time_str = \"12:17:08\"\n",
    "output_csv = \"Data_ElevationAngle_GPS/20250901_2ndperiod.csv\"\n",
    "\n",
    "process_elevation_gps(gps_file, lidar_file,theo_file, alt_file, date_str, start_time_str,output_csv)"
   ],
   "id": "53586dc412741be2",
   "outputs": [
    {
     "name": "stdout",
     "output_type": "stream",
     "text": [
      "Metadata: S 25/09/01 12:17:08\n",
      "Saved elevation data → Data_ElevationAngle_GPS/20250901_2ndperiod.csv\n"
     ]
    }
   ],
   "execution_count": 4
  },
  {
   "metadata": {
    "ExecuteTime": {
     "end_time": "2025-09-04T12:41:15.043390Z",
     "start_time": "2025-09-04T12:41:13.322858Z"
    }
   },
   "cell_type": "code",
   "source": [
    "# 2025-09-03, 1st period\n",
    "gps_file = \"Data_Radiosonde/20250903/GpsResults_1stperiod.xlsx\"\n",
    "lidar_file = \"Data_Lidar/20250903/combined_20250903.nc\"\n",
    "theo_file = \"Data_Theodolite/TheoGelb_20250903_1stperiod.txt\"\n",
    "alt_file = \"Data_Altitude/20250903_1stperiod_altitude_kite_from_wxt.csv\"\n",
    "date_str = \"2025-09-03\"\n",
    "start_time_str = \"08:48:09\"\n",
    "output_csv = \"Data_ElevationAngle_GPS/20250903_1stperiod.csv\"\n",
    "\n",
    "process_elevation_gps(gps_file, lidar_file,theo_file, alt_file, date_str, start_time_str,output_csv)"
   ],
   "id": "ce8147e8e8c20b9f",
   "outputs": [
    {
     "name": "stdout",
     "output_type": "stream",
     "text": [
      "Metadata: S 25/09/03 08:48:09\n",
      "Saved elevation data → Data_ElevationAngle_GPS/20250903_1stperiod.csv\n"
     ]
    }
   ],
   "execution_count": 5
  },
  {
   "metadata": {
    "ExecuteTime": {
     "end_time": "2025-09-04T12:41:16.258752Z",
     "start_time": "2025-09-04T12:41:15.047930Z"
    }
   },
   "cell_type": "code",
   "source": [
    "# 2025-09-03, 2nd period\n",
    "gps_file = \"Data_Radiosonde/20250903/GpsResults_2ndperiod.xlsx\"\n",
    "lidar_file = \"Data_Lidar/20250903/combined_20250903.nc\"\n",
    "theo_file = \"Data_Theodolite/TheoGelb_20250903_2ndperiod.txt\"\n",
    "alt_file = \"Data_Altitude/20250903_2ndperiod_altitude_kite_from_wxt.csv\"\n",
    "date_str = \"2025-09-03\"\n",
    "start_time_str = \"12:42:17\"\n",
    "output_csv = \"Data_ElevationAngle_GPS/20250903_2ndperiod.csv\"\n",
    "\n",
    "process_elevation_gps(gps_file, lidar_file,theo_file, alt_file, date_str, start_time_str,output_csv)"
   ],
   "id": "28e559c9c1675ec0",
   "outputs": [
    {
     "name": "stdout",
     "output_type": "stream",
     "text": [
      "Metadata: S 25/09/03 12:42:17\n",
      "Saved elevation data → Data_ElevationAngle_GPS/20250903_2ndperiod.csv\n"
     ]
    }
   ],
   "execution_count": 6
  },
  {
   "metadata": {
    "ExecuteTime": {
     "end_time": "2025-09-04T12:41:16.264222Z",
     "start_time": "2025-09-04T12:41:16.263072Z"
    }
   },
   "cell_type": "code",
   "source": "",
   "id": "bdf0b42fc9847625",
   "outputs": [],
   "execution_count": null
  }
 ],
 "metadata": {
  "kernelspec": {
   "display_name": "Python 3",
   "language": "python",
   "name": "python3"
  },
  "language_info": {
   "codemirror_mode": {
    "name": "ipython",
    "version": 2
   },
   "file_extension": ".py",
   "mimetype": "text/x-python",
   "name": "python",
   "nbconvert_exporter": "python",
   "pygments_lexer": "ipython2",
   "version": "2.7.6"
  }
 },
 "nbformat": 4,
 "nbformat_minor": 5
}

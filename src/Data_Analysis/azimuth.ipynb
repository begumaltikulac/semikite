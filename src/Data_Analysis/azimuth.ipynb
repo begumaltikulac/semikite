{
 "cells": [
  {
   "cell_type": "code",
   "id": "initial_id",
   "metadata": {
    "collapsed": true,
    "ExecuteTime": {
     "end_time": "2025-08-30T13:02:15.122076Z",
     "start_time": "2025-08-30T13:02:14.918319Z"
    }
   },
   "source": "import numpy as np\n",
   "outputs": [],
   "execution_count": 1
  },
  {
   "metadata": {
    "ExecuteTime": {
     "end_time": "2025-08-30T13:04:59.927932Z",
     "start_time": "2025-08-30T13:04:59.893713Z"
    }
   },
   "cell_type": "code",
   "source": [
    "with open('Data_Theodolite/TheoGelb_20250829.txt', 'r') as file:\n",
    "    data = file.readlines()\n",
    "\n",
    "for line in data:\n",
    "    # Convert the split values into integers (or floats if necessary)\n",
    "    values = [int(x) for x in line.split()]  # Use float(x) if the data is floating-point\n",
    "print(values)"
   ],
   "id": "41af44b81c4bef5e",
   "outputs": [
    {
     "ename": "ValueError",
     "evalue": "invalid literal for int() with base 10: 'S'",
     "output_type": "error",
     "traceback": [
      "\u001B[31m---------------------------------------------------------------------------\u001B[39m",
      "\u001B[31mValueError\u001B[39m                                Traceback (most recent call last)",
      "\u001B[36mCell\u001B[39m\u001B[36m \u001B[39m\u001B[32mIn[7]\u001B[39m\u001B[32m, line 6\u001B[39m\n\u001B[32m      2\u001B[39m     data = file.readlines()\n\u001B[32m      4\u001B[39m \u001B[38;5;28;01mfor\u001B[39;00m line \u001B[38;5;129;01min\u001B[39;00m data:\n\u001B[32m      5\u001B[39m     \u001B[38;5;66;03m# Convert the split values into integers (or floats if necessary)\u001B[39;00m\n\u001B[32m----> \u001B[39m\u001B[32m6\u001B[39m     values = [\u001B[38;5;28;43mint\u001B[39;49m\u001B[43m(\u001B[49m\u001B[43mx\u001B[49m\u001B[43m)\u001B[49m \u001B[38;5;28;01mfor\u001B[39;00m x \u001B[38;5;129;01min\u001B[39;00m line.split()]  \u001B[38;5;66;03m# Use float(x) if the data is floating-point\u001B[39;00m\n\u001B[32m      7\u001B[39m \u001B[38;5;28mprint\u001B[39m(values)\n",
      "\u001B[31mValueError\u001B[39m: invalid literal for int() with base 10: 'S'"
     ]
    }
   ],
   "execution_count": 7
  },
  {
   "metadata": {},
   "cell_type": "code",
   "outputs": [],
   "execution_count": null,
   "source": "",
   "id": "acb813f989dd872f"
  }
 ],
 "metadata": {
  "kernelspec": {
   "display_name": "Python 3",
   "language": "python",
   "name": "python3"
  },
  "language_info": {
   "codemirror_mode": {
    "name": "ipython",
    "version": 2
   },
   "file_extension": ".py",
   "mimetype": "text/x-python",
   "name": "python",
   "nbconvert_exporter": "python",
   "pygments_lexer": "ipython2",
   "version": "2.7.6"
  }
 },
 "nbformat": 4,
 "nbformat_minor": 5
}

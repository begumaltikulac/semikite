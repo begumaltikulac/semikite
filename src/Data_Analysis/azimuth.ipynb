{
 "cells": [
  {
   "cell_type": "code",
   "id": "initial_id",
   "metadata": {
    "collapsed": true,
    "ExecuteTime": {
     "end_time": "2025-09-02T10:18:31.252838Z",
     "start_time": "2025-09-02T10:18:30.754387Z"
    }
   },
   "source": [
    "import numpy as np\n",
    "import pandas as pd\n",
    "import datetime as dt\n",
    "from datetime import timedelta"
   ],
   "outputs": [],
   "execution_count": 2
  },
  {
   "metadata": {
    "ExecuteTime": {
     "end_time": "2025-09-02T10:23:21.723040Z",
     "start_time": "2025-09-02T10:23:21.710381Z"
    }
   },
   "cell_type": "code",
   "source": [
    "theo_file = \"Data_Theodolite/TheoGelb_20250829.txt\"\n",
    "\n",
    "azimuth_offset= 0\n",
    "\n",
    "start_time = dt.datetime(2025, 8, 29, 8, 31, 8)\n",
    "\n",
    "with open(theo_file, \"r\") as f:\n",
    "    lines = f.readlines()\n",
    "lines = lines[:-3]  # letzte drei Zeilen verwerfen\n",
    "\n",
    "time_sec, value1, value2 = [], [], []\n",
    "for line in lines:\n",
    "    line = line.strip()\n",
    "    if line.startswith(\"D\"):\n",
    "        parts = line.split()\n",
    "        time_sec.append(float(parts[1]))\n",
    "        value1.append(float(parts[2]))\n",
    "        value2.append(float(parts[3]))\n",
    "    elif line.startswith(\"S\"):\n",
    "        print(\"Metadata:\", line)\n",
    "\n",
    "azimuth = np.array(value1) + azimuth_offset\n",
    "azimuth[azimuth > 360] -= 360\n",
    "\n",
    "df_theo = pd.DataFrame({\n",
    "    \"time_sec\": [start_time + timedelta(seconds=s) for s in time_sec],\n",
    "    \"azimuth\": azimuth,\n",
    "    \"elevation\":value2\n",
    "})"
   ],
   "id": "41af44b81c4bef5e",
   "outputs": [
    {
     "name": "stdout",
     "output_type": "stream",
     "text": [
      "Metadata: S 25/08/29 08:31:08\n"
     ]
    }
   ],
   "execution_count": 21
  },
  {
   "metadata": {
    "ExecuteTime": {
     "end_time": "2025-09-02T10:23:23.428284Z",
     "start_time": "2025-09-02T10:23:23.417653Z"
    }
   },
   "cell_type": "code",
   "source": "df_theo",
   "id": "fcbcd0c35f1b3781",
   "outputs": [
    {
     "data": {
      "text/plain": [
       "               time_sec  azimuth  elevation\n",
       "0   2025-08-29 08:31:08   113.99      25.16\n",
       "1   2025-08-29 08:31:13   115.04      25.08\n",
       "2   2025-08-29 08:31:18   115.24      25.23\n",
       "3   2025-08-29 08:31:23   116.58      26.95\n",
       "4   2025-08-29 08:31:28   118.17      27.21\n",
       "..                  ...      ...        ...\n",
       "992 2025-08-29 09:53:48   126.61      14.52\n",
       "993 2025-08-29 09:53:53   125.30      14.40\n",
       "994 2025-08-29 09:53:58   125.23      14.79\n",
       "995 2025-08-29 09:54:03   126.09      15.79\n",
       "996 2025-08-29 09:54:08   126.35      17.14\n",
       "\n",
       "[997 rows x 3 columns]"
      ],
      "text/html": [
       "<div>\n",
       "<style scoped>\n",
       "    .dataframe tbody tr th:only-of-type {\n",
       "        vertical-align: middle;\n",
       "    }\n",
       "\n",
       "    .dataframe tbody tr th {\n",
       "        vertical-align: top;\n",
       "    }\n",
       "\n",
       "    .dataframe thead th {\n",
       "        text-align: right;\n",
       "    }\n",
       "</style>\n",
       "<table border=\"1\" class=\"dataframe\">\n",
       "  <thead>\n",
       "    <tr style=\"text-align: right;\">\n",
       "      <th></th>\n",
       "      <th>time_sec</th>\n",
       "      <th>azimuth</th>\n",
       "      <th>elevation</th>\n",
       "    </tr>\n",
       "  </thead>\n",
       "  <tbody>\n",
       "    <tr>\n",
       "      <th>0</th>\n",
       "      <td>2025-08-29 08:31:08</td>\n",
       "      <td>113.99</td>\n",
       "      <td>25.16</td>\n",
       "    </tr>\n",
       "    <tr>\n",
       "      <th>1</th>\n",
       "      <td>2025-08-29 08:31:13</td>\n",
       "      <td>115.04</td>\n",
       "      <td>25.08</td>\n",
       "    </tr>\n",
       "    <tr>\n",
       "      <th>2</th>\n",
       "      <td>2025-08-29 08:31:18</td>\n",
       "      <td>115.24</td>\n",
       "      <td>25.23</td>\n",
       "    </tr>\n",
       "    <tr>\n",
       "      <th>3</th>\n",
       "      <td>2025-08-29 08:31:23</td>\n",
       "      <td>116.58</td>\n",
       "      <td>26.95</td>\n",
       "    </tr>\n",
       "    <tr>\n",
       "      <th>4</th>\n",
       "      <td>2025-08-29 08:31:28</td>\n",
       "      <td>118.17</td>\n",
       "      <td>27.21</td>\n",
       "    </tr>\n",
       "    <tr>\n",
       "      <th>...</th>\n",
       "      <td>...</td>\n",
       "      <td>...</td>\n",
       "      <td>...</td>\n",
       "    </tr>\n",
       "    <tr>\n",
       "      <th>992</th>\n",
       "      <td>2025-08-29 09:53:48</td>\n",
       "      <td>126.61</td>\n",
       "      <td>14.52</td>\n",
       "    </tr>\n",
       "    <tr>\n",
       "      <th>993</th>\n",
       "      <td>2025-08-29 09:53:53</td>\n",
       "      <td>125.30</td>\n",
       "      <td>14.40</td>\n",
       "    </tr>\n",
       "    <tr>\n",
       "      <th>994</th>\n",
       "      <td>2025-08-29 09:53:58</td>\n",
       "      <td>125.23</td>\n",
       "      <td>14.79</td>\n",
       "    </tr>\n",
       "    <tr>\n",
       "      <th>995</th>\n",
       "      <td>2025-08-29 09:54:03</td>\n",
       "      <td>126.09</td>\n",
       "      <td>15.79</td>\n",
       "    </tr>\n",
       "    <tr>\n",
       "      <th>996</th>\n",
       "      <td>2025-08-29 09:54:08</td>\n",
       "      <td>126.35</td>\n",
       "      <td>17.14</td>\n",
       "    </tr>\n",
       "  </tbody>\n",
       "</table>\n",
       "<p>997 rows × 3 columns</p>\n",
       "</div>"
      ]
     },
     "execution_count": 22,
     "metadata": {},
     "output_type": "execute_result"
    }
   ],
   "execution_count": 22
  },
  {
   "metadata": {
    "ExecuteTime": {
     "end_time": "2025-09-02T10:23:24.626383Z",
     "start_time": "2025-09-02T10:23:24.622359Z"
    }
   },
   "cell_type": "code",
   "source": "azimuth_mean=np.mean(df_theo[\"azimuth\"])",
   "id": "4441bf69e5cea337",
   "outputs": [],
   "execution_count": 23
  },
  {
   "metadata": {
    "ExecuteTime": {
     "end_time": "2025-09-02T10:23:25.751564Z",
     "start_time": "2025-09-02T10:23:25.748413Z"
    }
   },
   "cell_type": "code",
   "source": "theowind=azimuth_mean+180",
   "id": "d92a38505195f460",
   "outputs": [],
   "execution_count": 24
  },
  {
   "metadata": {
    "ExecuteTime": {
     "end_time": "2025-09-02T10:23:26.826412Z",
     "start_time": "2025-09-02T10:23:26.821606Z"
    }
   },
   "cell_type": "code",
   "source": "theowind",
   "id": "ee540ec9aa9148c7",
   "outputs": [
    {
     "data": {
      "text/plain": [
       "np.float64(303.65983951855566)"
      ]
     },
     "execution_count": 25,
     "metadata": {},
     "output_type": "execute_result"
    }
   ],
   "execution_count": 25
  },
  {
   "metadata": {
    "ExecuteTime": {
     "end_time": "2025-09-02T10:23:28.515826Z",
     "start_time": "2025-09-02T10:23:28.512811Z"
    }
   },
   "cell_type": "code",
   "source": "mastwind=251.81",
   "id": "e0fafde638bc5b3f",
   "outputs": [],
   "execution_count": 26
  },
  {
   "metadata": {
    "ExecuteTime": {
     "end_time": "2025-09-02T10:23:29.539609Z",
     "start_time": "2025-09-02T10:23:29.536572Z"
    }
   },
   "cell_type": "code",
   "source": "difference=theowind-mastwind",
   "id": "60ccd3f6d35fd774",
   "outputs": [],
   "execution_count": 27
  },
  {
   "metadata": {
    "ExecuteTime": {
     "end_time": "2025-09-02T10:23:30.572931Z",
     "start_time": "2025-09-02T10:23:30.567710Z"
    }
   },
   "cell_type": "code",
   "source": "difference",
   "id": "a4c61e99602fedac",
   "outputs": [
    {
     "data": {
      "text/plain": [
       "np.float64(51.849839518555655)"
      ]
     },
     "execution_count": 28,
     "metadata": {},
     "output_type": "execute_result"
    }
   ],
   "execution_count": 28
  },
  {
   "metadata": {
    "ExecuteTime": {
     "end_time": "2025-09-02T10:23:31.628746Z",
     "start_time": "2025-09-02T10:23:31.624463Z"
    }
   },
   "cell_type": "code",
   "source": "realaz = df_theo[\"azimuth\"] - difference",
   "id": "93b6f2893f91eff8",
   "outputs": [],
   "execution_count": 29
  },
  {
   "metadata": {
    "ExecuteTime": {
     "end_time": "2025-09-02T10:23:32.113702Z",
     "start_time": "2025-09-02T10:23:32.109500Z"
    }
   },
   "cell_type": "code",
   "source": "meanrealaz= np.mean(realaz)",
   "id": "784326cd183ee634",
   "outputs": [],
   "execution_count": 30
  },
  {
   "metadata": {
    "ExecuteTime": {
     "end_time": "2025-09-02T10:23:32.466884Z",
     "start_time": "2025-09-02T10:23:32.462142Z"
    }
   },
   "cell_type": "code",
   "source": "meanrealaz",
   "id": "cb0814b3c145e6a8",
   "outputs": [
    {
     "data": {
      "text/plain": [
       "np.float64(71.81)"
      ]
     },
     "execution_count": 31,
     "metadata": {},
     "output_type": "execute_result"
    }
   ],
   "execution_count": 31
  },
  {
   "metadata": {
    "ExecuteTime": {
     "end_time": "2025-09-02T10:23:32.761888Z",
     "start_time": "2025-09-02T10:23:32.757815Z"
    }
   },
   "cell_type": "code",
   "source": "df_theo[\"realaz\"] = realaz",
   "id": "e89782b2fd5e99c6",
   "outputs": [],
   "execution_count": 32
  },
  {
   "metadata": {
    "ExecuteTime": {
     "end_time": "2025-09-02T10:23:32.983134Z",
     "start_time": "2025-09-02T10:23:32.972844Z"
    }
   },
   "cell_type": "code",
   "source": "df_theo.to_csv(\"Data_Theodolite/TheoGelb_20250829_corrected.csv\", index=False)\n",
   "id": "4baa1d8144997b3e",
   "outputs": [],
   "execution_count": 33
  },
  {
   "metadata": {
    "ExecuteTime": {
     "end_time": "2025-09-02T10:23:33.177715Z",
     "start_time": "2025-09-02T10:23:33.165381Z"
    }
   },
   "cell_type": "code",
   "source": [
    "df_loaded = pd.read_csv(\"Data_Theodolite/TheoGelb_20250829_corrected.csv\")\n",
    "\n",
    "print(df_loaded)"
   ],
   "id": "b5f24f3a5c274b67",
   "outputs": [
    {
     "name": "stdout",
     "output_type": "stream",
     "text": [
      "                time_sec  azimuth  elevation    realaz\n",
      "0    2025-08-29 08:31:08   113.99      25.16  62.14016\n",
      "1    2025-08-29 08:31:13   115.04      25.08  63.19016\n",
      "2    2025-08-29 08:31:18   115.24      25.23  63.39016\n",
      "3    2025-08-29 08:31:23   116.58      26.95  64.73016\n",
      "4    2025-08-29 08:31:28   118.17      27.21  66.32016\n",
      "..                   ...      ...        ...       ...\n",
      "992  2025-08-29 09:53:48   126.61      14.52  74.76016\n",
      "993  2025-08-29 09:53:53   125.30      14.40  73.45016\n",
      "994  2025-08-29 09:53:58   125.23      14.79  73.38016\n",
      "995  2025-08-29 09:54:03   126.09      15.79  74.24016\n",
      "996  2025-08-29 09:54:08   126.35      17.14  74.50016\n",
      "\n",
      "[997 rows x 4 columns]\n"
     ]
    }
   ],
   "execution_count": 34
  },
  {
   "metadata": {
    "ExecuteTime": {
     "end_time": "2025-09-02T10:24:12.898605Z",
     "start_time": "2025-09-02T10:24:12.887280Z"
    }
   },
   "cell_type": "code",
   "source": [
    "df_loaded1 = pd.read_csv(\"Data_Theodolite/TheoRot_20250829_corrected.csv\")\n",
    "\n",
    "print(df_loaded1)"
   ],
   "id": "d77391891094f168",
   "outputs": [
    {
     "name": "stdout",
     "output_type": "stream",
     "text": [
      "                time_sec  azimuth  elevation     realaz\n",
      "0    2025-08-29 08:31:08   191.89      24.63  62.711221\n",
      "1    2025-08-29 08:31:13   192.64      24.31  63.461221\n",
      "2    2025-08-29 08:31:18   192.31      25.62  63.131221\n",
      "3    2025-08-29 08:31:23   194.07      26.44  64.891221\n",
      "4    2025-08-29 08:31:28   195.40      26.85  66.221221\n",
      "..                   ...      ...        ...        ...\n",
      "994  2025-08-29 09:53:58   202.52      14.44  73.341221\n",
      "995  2025-08-29 09:54:03   203.18      15.07  74.001221\n",
      "996  2025-08-29 09:54:08   203.87      16.57  74.691221\n",
      "997  2025-08-29 09:54:13   202.08      18.04  72.901221\n",
      "998  2025-08-29 09:54:18   199.40      18.85  70.221221\n",
      "\n",
      "[999 rows x 4 columns]\n"
     ]
    }
   ],
   "execution_count": 35
  },
  {
   "metadata": {},
   "cell_type": "code",
   "outputs": [],
   "execution_count": null,
   "source": "",
   "id": "86fd887e0be74121"
  }
 ],
 "metadata": {
  "kernelspec": {
   "display_name": "Python 3",
   "language": "python",
   "name": "python3"
  },
  "language_info": {
   "codemirror_mode": {
    "name": "ipython",
    "version": 2
   },
   "file_extension": ".py",
   "mimetype": "text/x-python",
   "name": "python",
   "nbconvert_exporter": "python",
   "pygments_lexer": "ipython2",
   "version": "2.7.6"
  }
 },
 "nbformat": 4,
 "nbformat_minor": 5
}

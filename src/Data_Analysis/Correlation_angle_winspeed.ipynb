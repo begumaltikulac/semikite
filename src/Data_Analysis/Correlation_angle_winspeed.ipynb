{
 "cells": [
  {
   "metadata": {
    "ExecuteTime": {
     "end_time": "2025-09-04T08:50:20.627748Z",
     "start_time": "2025-09-04T08:50:20.543262Z"
    }
   },
   "cell_type": "code",
   "source": [
    "import numpy as np\n",
    "import matplotlib.pyplot as plt\n",
    "import pandas as pd\n",
    "import xarray as xr\n",
    "from datetime import timedelta, datetime\n",
    "from function_interpolate_1theodolite import process_lidar_1theodolite\n",
    "from function_interpolate_2theodolites import process_lidar_2theodolite\n",
    "import seaborn as sns\n",
    "import os\n",
    "from function_calculation_altitude_from_wxt import process_altitude"
   ],
   "id": "b6dcb758f31ff1d6",
   "outputs": [],
   "execution_count": 1
  },
  {
   "metadata": {},
   "cell_type": "markdown",
   "source": "## Create combined Lidar files",
   "id": "127ec55ac7ee2551"
  },
  {
   "metadata": {
    "ExecuteTime": {
     "end_time": "2025-09-04T08:50:22.704493Z",
     "start_time": "2025-09-04T08:50:22.702549Z"
    }
   },
   "cell_type": "code",
   "source": [
    "# create a combined file for Lidar data on 2025-08-27\n",
    "'''\n",
    "files = [\"20250827_080000.nc\", \"20250827_090000.nc\", \"20250827_100000.nc\", \"20250827_110000.nc\"]\n",
    "\n",
    "folder = \"Data_Lidar/20250827\"\n",
    "file_paths = [os.path.join(folder, f) for f in files]\n",
    "\n",
    "# Öffnen und automatisch entlang der Dimension \"time\" kombinieren\n",
    "ds = xr.open_mfdataset(file_paths, combine='by_coords')\n",
    "\n",
    "# Ergebnis als neues NetCDF speichern\n",
    "ds.to_netcdf(\"Data_Lidar/20250827/combined_20250827.nc\")\n",
    "'''"
   ],
   "id": "a187d83447ee1ada",
   "outputs": [
    {
     "data": {
      "text/plain": [
       "'\\nfiles = [\"20250827_080000.nc\", \"20250827_090000.nc\", \"20250827_100000.nc\", \"20250827_110000.nc\"]\\n\\nfolder = \"Data_Lidar/20250827\"\\nfile_paths = [os.path.join(folder, f) for f in files]\\n\\n# Öffnen und automatisch entlang der Dimension \"time\" kombinieren\\nds = xr.open_mfdataset(file_paths, combine=\\'by_coords\\')\\n\\n# Ergebnis als neues NetCDF speichern\\nds.to_netcdf(\"Data_Lidar/20250827/combined_20250827.nc\")\\n'"
      ]
     },
     "execution_count": 9,
     "metadata": {},
     "output_type": "execute_result"
    }
   ],
   "execution_count": 9
  },
  {
   "metadata": {
    "ExecuteTime": {
     "end_time": "2025-09-04T08:50:22.699396Z",
     "start_time": "2025-09-04T08:50:22.697298Z"
    }
   },
   "cell_type": "code",
   "outputs": [
    {
     "data": {
      "text/plain": [
       "'\\nfiles = [\"20250901_090000.nc\", \"20250901_100000.nc\", \"20250901_110000.nc\", \"20250901_120000.nc\", \"20250901_130000.nc\", \"20250901_140000.nc\"]\\n\\nfolder = \"Data_Lidar/20250901\"\\nfile_paths = [os.path.join(folder, f) for f in files]\\n\\n# Öffnen und automatisch entlang der Dimension \"time\" kombinieren\\nds = xr.open_mfdataset(file_paths, combine=\\'by_coords\\')\\n\\n# Ergebnis als neues NetCDF speichern\\nds.to_netcdf(\"Data_Lidar/20250901/combined_20250901.nc\")\\n'"
      ]
     },
     "execution_count": 8,
     "metadata": {},
     "output_type": "execute_result"
    }
   ],
   "execution_count": 8,
   "source": [
    "# create a combined file for Lidar data on 2025-09-01\n",
    "'''\n",
    "files = [\"20250901_090000.nc\", \"20250901_100000.nc\", \"20250901_110000.nc\", \"20250901_120000.nc\", \"20250901_130000.nc\", \"20250901_140000.nc\"]\n",
    "\n",
    "folder = \"Data_Lidar/20250901\"\n",
    "file_paths = [os.path.join(folder, f) for f in files]\n",
    "\n",
    "# Öffnen und automatisch entlang der Dimension \"time\" kombinieren\n",
    "ds = xr.open_mfdataset(file_paths, combine='by_coords')\n",
    "\n",
    "# Ergebnis als neues NetCDF speichern\n",
    "ds.to_netcdf(\"Data_Lidar/20250901/combined_20250901.nc\")\n",
    "'''"
   ],
   "id": "14ed33fe53d2992"
  },
  {
   "metadata": {
    "ExecuteTime": {
     "end_time": "2025-09-04T08:51:19.727670Z",
     "start_time": "2025-09-04T08:51:19.724736Z"
    }
   },
   "cell_type": "code",
   "source": [
    "# create a combined file for Lidar data on 2025-09-03\n",
    "'''\n",
    "files = [\"20250903_080000.nc\", \"20250903_090000.nc\", \"20250903_100000.nc\", \"20250903_110000.nc\", \"20250903_120000.nc\", \"20250903_130000.nc\", \"20250903_140000.nc\", \"20250903_150000.nc\"]\n",
    "\n",
    "folder = \"Data_Lidar/20250903\"\n",
    "file_paths = [os.path.join(folder, f) for f in files]\n",
    "\n",
    "# Öffnen und automatisch entlang der Dimension \"time\" kombinieren\n",
    "ds = xr.open_mfdataset(file_paths, combine='by_coords')\n",
    "\n",
    "# Ergebnis als neues NetCDF speichern\n",
    "ds.to_netcdf(\"Data_Lidar/20250903/combined_20250903.nc\")\n",
    "'''"
   ],
   "id": "3ef6e10ae2b99405",
   "outputs": [
    {
     "data": {
      "text/plain": [
       "'\\nfiles = [\"20250903_080000.nc\", \"20250903_090000.nc\", \"20250903_100000.nc\", \"20250903_110000.nc\", \"20250903_120000.nc\", \"20250903_130000.nc\", \"20250903_140000.nc\", \"20250903_150000.nc\"]\\n\\nfolder = \"Data_Lidar/20250903\"\\nfile_paths = [os.path.join(folder, f) for f in files]\\n\\n# Öffnen und automatisch entlang der Dimension \"time\" kombinieren\\nds = xr.open_mfdataset(file_paths, combine=\\'by_coords\\')\\n\\n# Ergebnis als neues NetCDF speichern\\nds.to_netcdf(\"Data_Lidar/20250903/combined_20250903.nc\")\\n'"
      ]
     },
     "execution_count": 21,
     "metadata": {},
     "output_type": "execute_result"
    }
   ],
   "execution_count": 21
  },
  {
   "metadata": {},
   "cell_type": "markdown",
   "source": "## Calculate altitude of kite",
   "id": "bfa55b3027dda8be"
  },
  {
   "metadata": {
    "ExecuteTime": {
     "end_time": "2025-09-04T08:50:27.293882Z",
     "start_time": "2025-09-04T08:50:27.291981Z"
    }
   },
   "cell_type": "code",
   "outputs": [],
   "execution_count": 12,
   "source": [
    "# function to calculate the height from the pressure, with hydrostatic approximation\n",
    "def height_from_pressure(p2, p1=1007,rho=1.15, g=9.81):\n",
    "    dp = p1 - p2\n",
    "    dz = dp / (rho * g)\n",
    "    return dz"
   ],
   "id": "16c7bf00ad3e934e"
  },
  {
   "metadata": {
    "ExecuteTime": {
     "end_time": "2025-09-04T08:50:20.636098Z",
     "start_time": "2025-09-04T08:50:20.632792Z"
    }
   },
   "cell_type": "code",
   "outputs": [
    {
     "data": {
      "text/plain": [
       "'\\nprocess_altitude(\\n    date_str=\"2025-08-27\",\\n    ptu_file=\"Data_Radiosonde/PtuResults.xlsx\",\\n    wxt_file=\"Data_WXT/20250827.txt\",\\n    lidar_file=\"Data_Lidar/20250827/combined_20250827.nc\",\\n    output_csv=\"Data_Altitude/20250827_altitude_kite_from_wxt_funct.csv\"\\n)\\n'"
      ]
     },
     "execution_count": 2,
     "metadata": {},
     "output_type": "execute_result"
    }
   ],
   "execution_count": 2,
   "source": [
    "# 2025-08-27\n",
    "'''\n",
    "process_altitude(\n",
    "    date_str=\"2025-08-27\",\n",
    "    ptu_file=\"Data_Radiosonde/PtuResults.xlsx\",\n",
    "    wxt_file=\"Data_WXT/20250827.txt\",\n",
    "    lidar_file=\"Data_Lidar/20250827/combined_20250827.nc\",\n",
    "    output_csv=\"Data_Altitude/20250827_altitude_kite_from_wxt_funct.csv\"\n",
    ")\n",
    "'''"
   ],
   "id": "8858862f230dd857"
  },
  {
   "metadata": {
    "ExecuteTime": {
     "end_time": "2025-09-04T09:02:53.027130Z",
     "start_time": "2025-09-04T09:02:53.023360Z"
    }
   },
   "cell_type": "code",
   "source": [
    "# 2025-08-29\n",
    "'''\n",
    "ds_lidar_cut_0829, theo_interp_0829 = process_lidar_2theodolite(\n",
    "    lidar_file=\"Data_Lidar/20250829/combined_20250829.nc\",\n",
    "    theoRot_file=\"Data_Theodolite/TheoRot_20250829_123352.txt\",\n",
    "    theoGelb_file=\"Data_Theodolite/TheoGelb_20250829_124013.txt\",\n",
    "    date_str=\"2025-08-29\",\n",
    "    start_time_str=\"08:31:08\",\n",
    "    azimuth_offsetRot= 129.1787,\n",
    "    azimuth_offsetGelb= 51.8498\n",
    ")\n",
    "\n",
    "alt_0829 = np.sin(np.deg2rad(theo_interp_0829['elevation'])) * 87.56\n",
    "df_alt_cont = pd.DataFrame({\n",
    "    \"time\": ds_lidar_cut_0829['time'],\n",
    "    \"altitude\": np.array(alt_0829)\n",
    "})\n",
    "\n",
    "df_alt_cont.to_csv(\"Data_Altitude/20250829_altitude_kite_from_tetherlength.csv\", index=False)\n",
    "'''"
   ],
   "id": "43138b8db49dc1e4",
   "outputs": [
    {
     "data": {
      "text/plain": [
       "'\\nds_lidar_cut_0829, theo_interp_0829 = process_lidar_2theodolite(\\n    lidar_file=\"Data_Lidar/20250829/combined_20250829.nc\",\\n    theoRot_file=\"Data_Theodolite/TheoRot_20250829_123352.txt\",\\n    theoGelb_file=\"Data_Theodolite/TheoGelb_20250829_124013.txt\",\\n    date_str=\"2025-08-29\",\\n    start_time_str=\"08:31:08\",\\n    azimuth_offsetRot= 129.1787,\\n    azimuth_offsetGelb= 51.8498\\n)\\n\\nalt_0829 = np.sin(np.deg2rad(theo_interp_0829[\\'elevation\\'])) * 87.56\\ndf_alt_cont = pd.DataFrame({\\n    \"time\": ds_lidar_cut_0829[\\'time\\'],\\n    \"altitude\": np.array(alt_0829)\\n})\\n\\ndf_alt_cont.to_csv(\"Data_Altitude/20250829_altitude_kite_from_tetherlength.csv\", index=False)\\n'"
      ]
     },
     "execution_count": 28,
     "metadata": {},
     "output_type": "execute_result"
    }
   ],
   "execution_count": 28
  },
  {
   "metadata": {
    "ExecuteTime": {
     "end_time": "2025-09-04T08:59:42.615865Z",
     "start_time": "2025-09-04T08:59:42.611582Z"
    }
   },
   "cell_type": "code",
   "outputs": [
    {
     "data": {
      "text/plain": [
       "'\\nprocess_altitude(\\n    date_str=\"2025-09-01\",\\n    ptu_file=\"Data_Radiosonde/20250901/PtuResults.xlsx\",\\n    wxt_file=\"Data_WXT/20250901.txt\",\\n    lidar_file=\"Data_Lidar/20250901/combined_20250901.nc\",\\n    output_csv=\"Data_Altitude/20250901_altitude_kite_from_wxt.csv\"\\n)\\n'"
      ]
     },
     "execution_count": 26,
     "metadata": {},
     "output_type": "execute_result"
    }
   ],
   "execution_count": 26,
   "source": [
    "# 2025-09-01\n",
    "'''\n",
    "process_altitude(\n",
    "    date_str=\"2025-09-01\",\n",
    "    ptu_file=\"Data_Radiosonde/20250901/PtuResults.xlsx\",\n",
    "    wxt_file=\"Data_WXT/20250901.txt\",\n",
    "    lidar_file=\"Data_Lidar/20250901/combined_20250901.nc\",\n",
    "    output_csv=\"Data_Altitude/20250901_altitude_kite_from_wxt.csv\"\n",
    ")\n",
    "'''"
   ],
   "id": "3d32063e85e19a4b"
  },
  {
   "metadata": {},
   "cell_type": "code",
   "outputs": [],
   "execution_count": null,
   "source": [
    "# 2025-09-03, 1st period\n",
    "process_altitude(\n",
    "    date_str=\"2025-09-03\",\n",
    "    ptu_file=\"Data_Radiosonde/20250903/PtuResults_1stperiod.xlsx\",\n",
    "    wxt_file=\"Data_WXT/20250901.txt\",\n",
    "    lidar_file=\"Data_Lidar/20250901/combined_20250901.nc\",\n",
    "    output_csv=\"Data_Altitude/20250901_altitude_kite_from_wxt.csv\"\n",
    ")"
   ],
   "id": "c081a58771cb7e9e"
  },
  {
   "metadata": {},
   "cell_type": "markdown",
   "source": "## Read data",
   "id": "735ddcad77700237"
  },
  {
   "metadata": {
    "ExecuteTime": {
     "end_time": "2025-09-04T08:50:22.070921Z",
     "start_time": "2025-09-04T08:50:22.056405Z"
    }
   },
   "cell_type": "code",
   "outputs": [
    {
     "name": "stdout",
     "output_type": "stream",
     "text": [
      "Metadata: S 25/08/27 09:08:09\n"
     ]
    }
   ],
   "execution_count": 5,
   "source": [
    "# read data 2025-08-27\n",
    "ds_lidar_cut, theo_interp = process_lidar_1theodolite(\n",
    "    lidar_file=\"Data_Lidar/20250827/20250827_090000.nc\",\n",
    "    theo_file=\"Data_Theodolite/TheoRot_20250827_150544.txt\",\n",
    "    date_str=\"2025-08-27\",\n",
    "    start_time_str=\"09:08:09\",\n",
    "    azimuth_offset= 107.46\n",
    ")"
   ],
   "id": "3e5ef94243e4ec3a"
  },
  {
   "metadata": {
    "ExecuteTime": {
     "end_time": "2025-09-04T08:50:22.645121Z",
     "start_time": "2025-09-04T08:50:22.640563Z"
    }
   },
   "cell_type": "code",
   "outputs": [],
   "execution_count": 6,
   "source": [
    "# cut out the valid periods for day 2025-08-27\n",
    "valid1 = datetime(2025, 8, 27, 9, 21, 0)  # 2025-08-27 11:21:00\n",
    "valid2 = datetime(2025, 8, 27, 9, 39, 0)  # 2025-08-27 11:39:00\n",
    "valid3 = datetime(2025, 8, 27, 9, 45, 0)  # 2025-08-27 11:45:00\n",
    "valid4 = datetime(2025, 8, 27, 9, 53, 0)  # 2025-08-27 11:53:00\n",
    "\n",
    "VEL_27_09_1 = ds_lidar_cut.sel(time=slice(valid1, valid2))\n",
    "VEL_27_09_2 = ds_lidar_cut.sel(time=slice(valid3, valid4))\n",
    "theo_27_09_1 = theo_interp.sel(time=slice(valid1, valid2))\n",
    "theo_27_09_2 = theo_interp.sel(time=slice(valid3, valid4))"
   ],
   "id": "4a4106c72adf2123"
  },
  {
   "metadata": {
    "ExecuteTime": {
     "end_time": "2025-09-04T08:50:22.675703Z",
     "start_time": "2025-09-04T08:50:22.655154Z"
    }
   },
   "cell_type": "code",
   "outputs": [
    {
     "name": "stdout",
     "output_type": "stream",
     "text": [
      "Metadata: S 25/08/29 08:31:09\n",
      "Metadata: S 25/08/29 08:31:08\n"
     ]
    }
   ],
   "execution_count": 7,
   "source": [
    "# read data 2025-08-29\n",
    "ds_lidar_cut_0829, theo_interp_0829 = process_lidar_2theodolite(\n",
    "    lidar_file=\"Data_Lidar/20250829/combined_20250829.nc\",\n",
    "    theoRot_file=\"Data_Theodolite/TheoRot_20250829_123352.txt\",\n",
    "    theoGelb_file=\"Data_Theodolite/TheoGelb_20250829_124013.txt\",\n",
    "    date_str=\"2025-08-29\",\n",
    "    start_time_str=\"08:31:08\",\n",
    "    azimuth_offsetRot= 129.1787,\n",
    "    azimuth_offsetGelb= 51.8498\n",
    ")"
   ],
   "id": "24ae6cf72d5aafcb"
  },
  {
   "metadata": {
    "ExecuteTime": {
     "end_time": "2025-09-04T08:50:27.275960Z",
     "start_time": "2025-09-04T08:50:27.242721Z"
    }
   },
   "cell_type": "code",
   "outputs": [
    {
     "name": "stdout",
     "output_type": "stream",
     "text": [
      "Metadata: S 25/09/01 09:03:20\n",
      "Metadata: S 25/09/01 09:03:20\n",
      "Metadata: S 25/09/01 12:17:09\n",
      "Metadata: S 25/09/01 12:17:08\n"
     ]
    }
   ],
   "execution_count": 11,
   "source": [
    "# read data 2025-09-01\n",
    "# STILL ADD THE AZIMUTH CORRECTIONS!!!\n",
    "ds_lidar_cut_0901_period1, theo_interp_0901_period1 = process_lidar_2theodolite(\n",
    "    lidar_file=\"Data_Lidar/20250901/combined_20250901.nc\",\n",
    "    theoRot_file=\"Data_Theodolite/TheoRot_20250901_1st_period.txt\",\n",
    "    theoGelb_file=\"Data_Theodolite/TheoGelb_20250901_1st_period.txt\",\n",
    "    date_str=\"2025-09-01\",\n",
    "    start_time_str=\"09:03:20\",\n",
    "    azimuth_offsetRot= 0.0,\n",
    "    azimuth_offsetGelb= 0.0\n",
    ")\n",
    "ds_lidar_cut_0901_period2, theo_interp_0901_period2 = process_lidar_2theodolite(\n",
    "    lidar_file=\"Data_Lidar/20250901/combined_20250901.nc\",\n",
    "    theoRot_file=\"Data_Theodolite/TheoRot_20250901_2nd_period.txt\",\n",
    "    theoGelb_file=\"Data_Theodolite/TheoGelb_20250901_2nd_period.txt\",\n",
    "    date_str=\"2025-09-01\",\n",
    "    start_time_str=\"12:17:09\",\n",
    "    azimuth_offsetRot= 0.0,\n",
    "    azimuth_offsetGelb= 0.0\n",
    ")"
   ],
   "id": "67dbcc3a1db5d0f3"
  },
  {
   "metadata": {
    "ExecuteTime": {
     "end_time": "2025-09-04T08:50:27.710008Z",
     "start_time": "2025-09-04T08:50:27.707482Z"
    }
   },
   "cell_type": "code",
   "source": [
    "# plot altitude from hydrostatic approximation\n",
    "'''\n",
    "fig = plt.figure()\n",
    "plt.plot(df_ptu[1:3683].index,height_from_pressure(df_ptu['Pressure'][1:3683])*100, '.-',markersize=0.5, label = r'$p_0$ = 1007 hPa')\n",
    "plt.plot(df_min['Time'][:61],altitude_cont*100, '.-', color='red',label = r'$p_0$ = p(WXT station)')\n",
    "plt.xlim(df_min['Time'][0], df_min['Time'][61])\n",
    "plt.gca().xaxis.set_major_formatter(mdates.DateFormatter('%H:%M'))\n",
    "plt.ylim(0,100)\n",
    "plt.title(r'Kite altitude calculated from hydrostatic equation, 2025-08-27')\n",
    "plt.ylabel('Altitude above reference level (m)')\n",
    "plt.xlabel('Time (UTC)')\n",
    "plt.legend()\n",
    "plt.show()\n",
    "fig.savefig('Plots/20250827_Radiosonde_altitude.png', dpi=300)\n",
    "'''"
   ],
   "id": "8716472472000dc9",
   "outputs": [
    {
     "data": {
      "text/plain": [
       "\"\\nfig = plt.figure()\\nplt.plot(df_ptu[1:3683].index,height_from_pressure(df_ptu['Pressure'][1:3683])*100, '.-',markersize=0.5, label = r'$p_0$ = 1007 hPa')\\nplt.plot(df_min['Time'][:61],altitude_cont*100, '.-', color='red',label = r'$p_0$ = p(WXT station)')\\nplt.xlim(df_min['Time'][0], df_min['Time'][61])\\nplt.gca().xaxis.set_major_formatter(mdates.DateFormatter('%H:%M'))\\nplt.ylim(0,100)\\nplt.title(r'Kite altitude calculated from hydrostatic equation, 2025-08-27')\\nplt.ylabel('Altitude above reference level (m)')\\nplt.xlabel('Time (UTC)')\\nplt.legend()\\nplt.show()\\nfig.savefig('Plots/20250827_Radiosonde_altitude.png', dpi=300)\\n\""
      ]
     },
     "execution_count": 17,
     "metadata": {},
     "output_type": "execute_result"
    }
   ],
   "execution_count": 17
  },
  {
   "metadata": {},
   "cell_type": "markdown",
   "source": "## Boxplot",
   "id": "6aad3e39b9ba1254"
  },
  {
   "metadata": {
    "ExecuteTime": {
     "end_time": "2025-09-04T08:50:27.744147Z",
     "start_time": "2025-09-04T08:50:27.738206Z"
    }
   },
   "cell_type": "code",
   "source": [
    "### ---- Define parameters here -------\n",
    "height_value = 60 # m\n",
    "bin_size = 5 # deg\n",
    "### create dataframes of each measurement period\n",
    "df1 = pd.DataFrame({\n",
    "    'elevation': theo_27_09_1['elevation'].values,\n",
    "    'wind_speed': VEL_27_09_1['VEL'].sel(height=height_value).values\n",
    "})\n",
    "df2 = pd.DataFrame({\n",
    "    'elevation': theo_27_09_2['elevation'].values,\n",
    "    'wind_speed': VEL_27_09_2['VEL'].sel(height=height_value).values\n",
    "})\n",
    "\n",
    "df3 = pd.DataFrame({\n",
    "    'elevation': theo_interp_0829['elevation'].values,\n",
    "    'wind_speed': ds_lidar_cut_0829['VEL'].sel(height=height_value).values\n",
    "})\n",
    "\n",
    "df4 = pd.DataFrame({\n",
    "    'elevation': theo_interp_0901_period1['elevation'].values,\n",
    "    'wind_speed': ds_lidar_cut_0901_period1['VEL'].sel(height=height_value).values\n",
    "})\n",
    "\n",
    "df5 = pd.DataFrame({\n",
    "    'elevation': theo_interp_0901_period2['elevation'].values,\n",
    "    'wind_speed': ds_lidar_cut_0901_period2['VEL'].sel(height=height_value).values\n",
    "})\n",
    "### just add more dataframes for more days/measurement periods\n",
    "\n",
    "# Combine all\n",
    "df_all = pd.concat([df1, df2, df3, df4, df5], ignore_index=True)\n"
   ],
   "id": "46b34d46a137e5de",
   "outputs": [],
   "execution_count": 18
  },
  {
   "metadata": {
    "ExecuteTime": {
     "end_time": "2025-09-04T08:50:27.776553Z",
     "start_time": "2025-09-04T08:50:27.773235Z"
    }
   },
   "cell_type": "code",
   "source": [
    "bins = np.arange(0, 91, bin_size)\n",
    "labels = [f\"{int(bins[i])}-{int(bins[i+1])}\" for i in range(len(bins)-1)] ### pretty labels\n",
    "\n",
    "# Elevation in bins\n",
    "df_all['elev_bin'] = pd.cut(df_all['elevation'], bins=bins, labels=labels, include_lowest=True)"
   ],
   "id": "eaa14d51f18fc05",
   "outputs": [],
   "execution_count": 19
  },
  {
   "metadata": {
    "ExecuteTime": {
     "end_time": "2025-09-04T08:50:27.964925Z",
     "start_time": "2025-09-04T08:50:27.805409Z"
    }
   },
   "cell_type": "code",
   "source": [
    "plt.figure(figsize=(12,6))\n",
    "sns.boxplot(x='elev_bin', y='wind_speed', data=df_all, color='r')\n",
    "\n",
    "plt.xlabel('Elevation angle [°]')\n",
    "plt.ylabel('Wind speed [m/s]')\n",
    "plt.title(f'Wind speed (at {height_value} m) vs. theodolite elevation angle, bin size = {bin_size}°')\n",
    "plt.xticks(rotation=45)\n",
    "plt.ylim(0, 10)\n",
    "\n",
    "# Show data points per bin\n",
    "counts = df_all.groupby('elev_bin').size()\n",
    "ax = plt.gca()\n",
    "for i, bin_label in enumerate(labels):\n",
    "    ax.text(i, 1.2, str(counts.get(bin_label,0)), ha='center', va='bottom', fontsize=15)\n",
    "\n",
    "plt.tight_layout()\n",
    "plt.show()\n"
   ],
   "id": "1cad3f716bc6cc02",
   "outputs": [
    {
     "name": "stderr",
     "output_type": "stream",
     "text": [
      "/var/folders/k6/y7fg0_p51yj9myt7l79bb1mc0000gn/T/ipykernel_5696/1516629088.py:11: FutureWarning: The default of observed=False is deprecated and will be changed to True in a future version of pandas. Pass observed=False to retain current behavior or observed=True to adopt the future default and silence this warning.\n",
      "  counts = df_all.groupby('elev_bin').size()\n"
     ]
    },
    {
     "data": {
      "text/plain": [
       "<Figure size 1200x600 with 1 Axes>"
      ],
      "image/png": "[encoded data removed]"
     },
     "metadata": {},
     "output_type": "display_data"
    }
   ],
   "execution_count": 20
  },
  {
   "metadata": {
    "ExecuteTime": {
     "end_time": "2025-09-04T08:50:27.999197Z",
     "start_time": "2025-09-04T08:50:27.997872Z"
    }
   },
   "cell_type": "code",
   "source": "",
   "id": "c4825c8708c19d6c",
   "outputs": [],
   "execution_count": null
  }
 ],
 "metadata": {
  "kernelspec": {
   "name": "python3",
   "language": "python",
   "display_name": "Python 3 (ipykernel)"
  }
 },
 "nbformat": 5,
 "nbformat_minor": 9
}

{
 "cells": [
  {
   "metadata": {
    "ExecuteTime": {
     "end_time": "2025-08-30T08:58:15.638726Z",
     "start_time": "2025-08-30T08:58:15.630222Z"
    }
   },
   "cell_type": "code",
   "source": [
    "import numpy as np\n",
    "import matplotlib.pyplot as plt\n",
    "import pandas as pd\n",
    "import xarray as xr\n",
    "from datetime import timedelta, datetime\n",
    "from function_interpolate_Lidar import process_lidar_theodolite"
   ],
   "id": "837cc0725f08aebb",
   "outputs": [],
   "execution_count": 82
  },
  {
   "metadata": {
    "ExecuteTime": {
     "end_time": "2025-08-30T08:53:43.119945Z",
     "start_time": "2025-08-30T08:53:43.102731Z"
    }
   },
   "cell_type": "code",
   "source": [
    "# read the Lidar data\n",
    "# times are UTC\n",
    "ws_27_09 = xr.open_dataset('Data_Lidar/20250827_090000.nc')"
   ],
   "id": "46206b9ec9dc829e",
   "outputs": [],
   "execution_count": 81
  },
  {
   "metadata": {
    "ExecuteTime": {
     "end_time": "2025-08-30T07:48:46.233513Z",
     "start_time": "2025-08-30T07:48:46.215012Z"
    }
   },
   "cell_type": "code",
   "source": [
    "# read Theodolite data\n",
    "# times are UTC\n",
    "date_str = \"2025-08-27\"\n",
    "start_time = pd.to_datetime(date_str + \" 09:08:09\")  # times in df_wxt are UTC + 1\n",
    "\n",
    "file_path = \"Data_Theodolite/TheoRot_20250827_150544.txt\"\n",
    "\n",
    "# Read all lines first\n",
    "with open(file_path, \"r\") as f:\n",
    "    lines = f.readlines()\n",
    "# Skip last three lines\n",
    "lines = lines[:-3]\n",
    "# Lists to store data\n",
    "time_sec = []\n",
    "value1 = []\n",
    "value2 = []\n",
    "\n",
    "for line in lines:\n",
    "    line = line.strip()\n",
    "    if line.startswith(\"D\"):  # data line\n",
    "        parts = line.split()\n",
    "        time_sec.append(float(parts[1]))\n",
    "        value1.append(float(parts[2]))\n",
    "        value2.append(float(parts[3]))\n",
    "    elif line.startswith(\"S\"):\n",
    "        print(\"Metadata:\", line)  # optional\n",
    "\n",
    "azimuth = np.array(value1) + (231.1-123.93)\n",
    "azimuth[azimuth > 360] = azimuth[azimuth > 360] - 360\n",
    "# Create DataFrame\n",
    "df_theo = pd.DataFrame({\n",
    "    \"time_sec\": [start_time + timedelta(seconds=s) for s in time_sec],\n",
    "    \"azimuth\": azimuth,\n",
    "    \"elevation\": value2})"
   ],
   "id": "701ee405a6cb055c",
   "outputs": [
    {
     "name": "stdout",
     "output_type": "stream",
     "text": [
      "Metadata: S 25/08/27 09:08:09\n"
     ]
    }
   ],
   "execution_count": 8
  },
  {
   "metadata": {
    "ExecuteTime": {
     "end_time": "2025-08-30T08:30:34.751447Z",
     "start_time": "2025-08-30T08:30:34.746738Z"
    }
   },
   "cell_type": "code",
   "outputs": [],
   "execution_count": 40,
   "source": [
    "# slice Lidar data frame for correct times\n",
    "t_start = df_theo['time_sec'][0]\n",
    "t_end   = df_theo['time_sec'].iloc[-1]\n",
    "\n",
    "ws_27_09_cut = ws_27_09.sel(time=slice(t_start, t_end))"
   ],
   "id": "22c3c9d4f0ad524"
  },
  {
   "metadata": {
    "ExecuteTime": {
     "end_time": "2025-08-30T08:41:05.385740Z",
     "start_time": "2025-08-30T08:41:05.376555Z"
    }
   },
   "cell_type": "code",
   "source": [
    "# interpolate Lidar values\n",
    "#time_lidar = ws_27_09['time'][:]\n",
    "theo_idx = pd.to_datetime(df_theo['time_sec']).to_numpy()\n",
    "# Interpolation\n",
    "ws_27_09_cut_inter = ws_27_09_cut['VEL'].interp(time=theo_idx)  # linear per default"
   ],
   "id": "7e1fd11c57094b8c",
   "outputs": [],
   "execution_count": 61
  },
  {
   "metadata": {
    "ExecuteTime": {
     "end_time": "2025-08-30T08:48:01.250356Z",
     "start_time": "2025-08-30T08:48:01.236678Z"
    }
   },
   "cell_type": "code",
   "source": [
    "# cut out the valid periods for day 2025-08-27\n",
    "valid1 = datetime(2025, 8, 27, 9, 21, 0)  # 2025-08-27 11:21:00\n",
    "valid2 = datetime(2025, 8, 27, 9, 39, 0)  # 2025-08-27 11:39:00\n",
    "valid3 = datetime(2025, 8, 27, 9, 45, 0)  # 2025-08-27 11:45:00\n",
    "valid4 = datetime(2025, 8, 27, 9, 53, 0)  # 2025-08-27 11:53:00\n",
    "\n",
    "VEL_27_09_1 = ws_27_09_cut_inter.sel(time=slice(valid1, valid2))\n",
    "VEL_27_09_2 = ws_27_09_cut_inter.sel(time=slice(valid3, valid4))\n",
    "theo_27_09_1 = df_theo[(df_theo['time_sec'] >= valid1) & (df_theo['time_sec'] <= valid2)]\n",
    "theo_27_09_2 = df_theo[(df_theo['time_sec'] >= valid3) & (df_theo['time_sec'] <= valid4)]"
   ],
   "id": "5cd0f99571bf6724",
   "outputs": [],
   "execution_count": 69
  },
  {
   "metadata": {
    "ExecuteTime": {
     "end_time": "2025-08-30T08:59:09.245876Z",
     "start_time": "2025-08-30T08:59:09.205700Z"
    }
   },
   "cell_type": "code",
   "source": [
    "theo_funct, ws_funct = process_lidar_theodolite(\n",
    "    lidar_file=\"Data_Lidar/20250827_090000.nc\",\n",
    "    theo_file=\"Data_Theodolite/TheoRot_20250827_150544.txt\",\n",
    "    date_str=\"2025-08-27\",\n",
    "    start_time_str=\"09:08:09\",\n",
    "    azimuth_offset=(231.1 - 123.93)   # wie in deinem Skript\n",
    ")\n",
    "\n",
    "print(theo_funct.head())\n",
    "print(ws_funct)"
   ],
   "id": "571158a570e9d74c",
   "outputs": [
    {
     "name": "stdout",
     "output_type": "stream",
     "text": [
      "Metadata: S 25/08/27 09:08:09\n",
      "             time_sec  azimuth  elevation\n",
      "0 2025-08-27 09:08:09    82.15       6.45\n",
      "1 2025-08-27 09:08:14    82.15       6.45\n",
      "2 2025-08-27 09:08:19    82.15       6.45\n",
      "3 2025-08-27 09:08:24    72.39       6.45\n",
      "4 2025-08-27 09:08:29   330.20       6.45\n",
      "<xarray.DataArray 'VEL' (time: 566, height: 14)> Size: 63kB\n",
      "array([[nan, nan, nan, ..., nan, nan, nan],\n",
      "       [nan, nan, nan, ..., nan, nan, nan],\n",
      "       [nan, nan, nan, ..., nan, nan, nan],\n",
      "       ...,\n",
      "       [nan, nan, nan, ..., nan, nan, nan],\n",
      "       [nan, nan, nan, ..., nan, nan, nan],\n",
      "       [nan, nan, nan, ..., nan, nan, nan]], shape=(566, 14))\n",
      "Coordinates:\n",
      "  * height   (height) float32 56B 7.0 10.0 15.0 20.0 ... 140.0 160.0 180.0 200.0\n",
      "  * time     (time) datetime64[ns] 5kB 2025-08-27T09:08:09 ... 2025-08-27T09:...\n",
      "Attributes:\n",
      "    standard_name:     wind_speed\n",
      "    long_name:         wind_speed\n",
      "    units:             meter per second\n",
      "    field_folds:       false\n",
      "    fold_limit_lower:  0.0\n",
      "    fold_limit_upper:  0.0\n",
      "    thresholding_xml:  \n",
      "    legend_xml:        \n",
      "    is_discreet:       false\n"
     ]
    }
   ],
   "execution_count": 83
  },
  {
   "metadata": {
    "ExecuteTime": {
     "end_time": "2025-08-30T09:01:50.462238Z",
     "start_time": "2025-08-30T09:01:50.450950Z"
    }
   },
   "cell_type": "code",
   "source": [
    "#pd.testing.assert_frame_equal(ws_27_09_cut_inter, ws_funct)\n",
    "xr.testing.assert_identical(ws_27_09_cut_inter, ws_funct)"
   ],
   "id": "4478b117c540ac77",
   "outputs": [],
   "execution_count": 87
  },
  {
   "metadata": {
    "ExecuteTime": {
     "end_time": "2025-08-30T08:53:19.795349Z",
     "start_time": "2025-08-30T08:53:19.720808Z"
    }
   },
   "cell_type": "code",
   "source": [
    "fig = plt.figure()\n",
    "plt.scatter(theo_27_09_1['elevation'], VEL_27_09_1.sel(height=60))\n",
    "plt.scatter(theo_27_09_2['elevation'], VEL_27_09_2.sel(height=60))\n",
    "plt.xlabel('Elevation angle [°]')\n",
    "plt.ylabel('Wind speed [m/s]')\n",
    "plt.xlim(0,90)\n",
    "plt.ylim(0,10)"
   ],
   "id": "383fd0df093fbe9f",
   "outputs": [
    {
     "data": {
      "text/plain": [
       "(0.0, 10.0)"
      ]
     },
     "execution_count": 80,
     "metadata": {},
     "output_type": "execute_result"
    },
    {
     "data": {
      "text/plain": [
       "<Figure size 640x480 with 1 Axes>"
      ],
      "image/png": "[encoded data removed]"
     },
     "metadata": {},
     "output_type": "display_data"
    }
   ],
   "execution_count": 80
  },
  {
   "metadata": {},
   "cell_type": "code",
   "outputs": [],
   "execution_count": null,
   "source": "",
   "id": "9de867feb7e93882"
  }
 ],
 "metadata": {
  "kernelspec": {
   "name": "python3",
   "language": "python",
   "display_name": "Python 3 (ipykernel)"
  }
 },
 "nbformat": 5,
 "nbformat_minor": 9
}

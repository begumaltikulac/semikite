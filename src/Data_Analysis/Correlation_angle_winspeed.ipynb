{
 "cells": [
  {
   "metadata": {
    "ExecuteTime": {
     "end_time": "2025-09-02T13:57:04.584010Z",
     "start_time": "2025-09-02T13:57:04.576547Z"
    }
   },
   "cell_type": "code",
   "source": [
    "import numpy as np\n",
    "import matplotlib.pyplot as plt\n",
    "import pandas as pd\n",
    "import xarray as xr\n",
    "from datetime import timedelta, datetime\n",
    "from function_interpolate_1theodolite import process_lidar_1theodolite\n",
    "from function_interpolate_2theodolites import process_lidar_2theodolite\n",
    "import seaborn as sns\n",
    "import os\n",
    "from function_calculation_altitude_from_wxt import process_altitude"
   ],
   "id": "b6dcb758f31ff1d6",
   "outputs": [],
   "execution_count": 124
  },
  {
   "metadata": {
    "ExecuteTime": {
     "end_time": "2025-09-02T14:39:59.426720Z",
     "start_time": "2025-09-02T14:39:59.416875Z"
    }
   },
   "cell_type": "code",
   "source": [
    "# 2025-08-27\n",
    "'''\n",
    "process_altitude(\n",
    "    date_str=\"2025-08-27\",\n",
    "    ptu_file=\"Radiosonde/PtuResults.xlsx\",\n",
    "    wxt_file=\"Data_WXT/20250827.txt\",\n",
    "    lidar_file=\"Data_Lidar/20250827/combined_20250827.nc\",\n",
    "    output_csv=\"Data_Altitude/20250827_altitude_kite_from_wxt_funct.csv\"\n",
    ")\n",
    "'''"
   ],
   "id": "8858862f230dd857",
   "outputs": [
    {
     "data": {
      "text/plain": [
       "'\\nprocess_altitude(\\n    date_str=\"2025-08-27\",\\n    ptu_file=\"Radiosonde/PtuResults.xlsx\",\\n    wxt_file=\"Data_WXT/20250827.txt\",\\n    lidar_file=\"Data_Lidar/20250827/combined_20250827.nc\",\\n    output_csv=\"Data_Altitude/20250827_altitude_kite_from_wxt_funct.csv\"\\n)\\n'"
      ]
     },
     "execution_count": 138,
     "metadata": {},
     "output_type": "execute_result"
    }
   ],
   "execution_count": 138
  },
  {
   "metadata": {
    "ExecuteTime": {
     "end_time": "2025-09-02T14:50:51.858066Z",
     "start_time": "2025-09-02T14:50:51.850091Z"
    }
   },
   "cell_type": "code",
   "source": [
    "# 2025-08-29\n",
    "'''\n",
    "ds_lidar_cut_0829, theo_interp_0829 = process_lidar_2theodolite(\n",
    "    lidar_file=\"Data_Lidar/20250829/combined_20250829.nc\",\n",
    "    theoRot_file=\"Data_Theodolite/TheoRot_20250829_123352.txt\",\n",
    "    theoGelb_file=\"Data_Theodolite/TheoGelb_20250829_124013.txt\",\n",
    "    date_str=\"2025-08-29\",\n",
    "    start_time_str=\"08:31:08\",\n",
    "    azimuth_offsetRot= 129.1787,\n",
    "    azimuth_offsetGelb= 51.8498\n",
    ")\n",
    "\n",
    "alt_0829 = np.sin(np.deg2rad(theo_interp_0829['elevation'])) * 87.56\n",
    "df_alt_cont = pd.DataFrame({\n",
    "    \"time\": ds_lidar_cut_0829['time'],\n",
    "    \"altitude\": np.array(alt_0829)\n",
    "})\n",
    "\n",
    "df_alt_cont.to_csv(\"Data_Altitude/20250829_altitude_kite_from_tetherlength.csv\", index=False)\n",
    "'''"
   ],
   "id": "43138b8db49dc1e4",
   "outputs": [
    {
     "data": {
      "text/plain": [
       "'\\nds_lidar_cut_0829, theo_interp_0829 = process_lidar_2theodolite(\\n    lidar_file=\"Data_Lidar/20250829/combined_20250829.nc\",\\n    theoRot_file=\"Data_Theodolite/TheoRot_20250829_123352.txt\",\\n    theoGelb_file=\"Data_Theodolite/TheoGelb_20250829_124013.txt\",\\n    date_str=\"2025-08-29\",\\n    start_time_str=\"08:31:08\",\\n    azimuth_offsetRot= 129.1787,\\n    azimuth_offsetGelb= 51.8498\\n)\\n\\nalt_0829 = np.sin(np.deg2rad(theo_interp_0829[\\'elevation\\'])) * 87.56\\ndf_alt_cont = pd.DataFrame({\\n    \"time\": ds_lidar_cut_0829[\\'time\\'],\\n    \"altitude\": np.array(alt_0829)\\n})\\n\\ndf_alt_cont.to_csv(\"Data_Altitude/20250829_altitude_kite_from_tetherlength.csv\", index=False)\\n'"
      ]
     },
     "execution_count": 153,
     "metadata": {},
     "output_type": "execute_result"
    }
   ],
   "execution_count": 153
  },
  {
   "metadata": {
    "ExecuteTime": {
     "end_time": "2025-09-02T14:40:09.637293Z",
     "start_time": "2025-09-02T14:40:09.634108Z"
    }
   },
   "cell_type": "code",
   "source": [
    "# 2025-09-01\n",
    "'''\n",
    "process_altitude(\n",
    "    date_str=\"2025-09-01\",\n",
    "    ptu_file=\"Radiosonde/20250901/PtuResults.xlsx\",\n",
    "    wxt_file=\"Data_WXT/20250901.txt\",\n",
    "    lidar_file=\"Data_Lidar/20250901/combined_20250901.nc\",\n",
    "    output_csv=\"Data_Altitude/20250901_altitude_kite_from_wxt.csv\"\n",
    ")\n",
    "'''"
   ],
   "id": "3d32063e85e19a4b",
   "outputs": [
    {
     "data": {
      "text/plain": [
       "'\\nprocess_altitude(\\n    date_str=\"2025-09-01\",\\n    ptu_file=\"Radiosonde/20250901/PtuResults.xlsx\",\\n    wxt_file=\"Data_WXT/20250901.txt\",\\n    lidar_file=\"Data_Lidar/20250901/combined_20250901.nc\",\\n    output_csv=\"Data_Altitude/20250901_altitude_kite_from_wxt.csv\"\\n)\\n'"
      ]
     },
     "execution_count": 139,
     "metadata": {},
     "output_type": "execute_result"
    }
   ],
   "execution_count": 139
  },
  {
   "metadata": {
    "ExecuteTime": {
     "end_time": "2025-09-02T14:52:55.412522Z",
     "start_time": "2025-09-02T14:52:55.371100Z"
    }
   },
   "cell_type": "code",
   "source": [
    "# read data 2025-08-27\n",
    "ds_lidar_cut, theo_interp = process_lidar_1theodolite(\n",
    "    lidar_file=\"Data_Lidar/20250827/20250827_090000.nc\",\n",
    "    theo_file=\"Data_Theodolite/TheoRot_20250827_150544.txt\",\n",
    "    date_str=\"2025-08-27\",\n",
    "    start_time_str=\"09:08:09\",\n",
    "    azimuth_offset= 107.46\n",
    ")"
   ],
   "id": "3e5ef94243e4ec3a",
   "outputs": [
    {
     "name": "stdout",
     "output_type": "stream",
     "text": [
      "Metadata: S 25/08/27 09:08:09\n"
     ]
    }
   ],
   "execution_count": 157
  },
  {
   "metadata": {},
   "cell_type": "code",
   "outputs": [],
   "execution_count": null,
   "source": [
    "# cut out the valid periods for day 2025-08-27\n",
    "valid1 = datetime(2025, 8, 27, 9, 21, 0)  # 2025-08-27 11:21:00\n",
    "valid2 = datetime(2025, 8, 27, 9, 39, 0)  # 2025-08-27 11:39:00\n",
    "valid3 = datetime(2025, 8, 27, 9, 45, 0)  # 2025-08-27 11:45:00\n",
    "valid4 = datetime(2025, 8, 27, 9, 53, 0)  # 2025-08-27 11:53:00\n",
    "\n",
    "VEL_27_09_1 = ds_lidar_cut.sel(time=slice(valid1, valid2))\n",
    "VEL_27_09_2 = ds_lidar_cut.sel(time=slice(valid3, valid4))\n",
    "theo_27_09_1 = theo_interp.sel(time=slice(valid1, valid2))\n",
    "theo_27_09_2 = theo_interp.sel(time=slice(valid3, valid4))"
   ],
   "id": "4a4106c72adf2123"
  },
  {
   "metadata": {},
   "cell_type": "code",
   "outputs": [],
   "execution_count": null,
   "source": [
    "# read data 2025-08-29\n",
    "ds_lidar_cut_0829, theo_interp_0829 = process_lidar_2theodolite(\n",
    "    lidar_file=\"Data_Lidar/20250829/combined_20250829.nc\",\n",
    "    theoRot_file=\"Data_Theodolite/TheoRot_20250829_123352.txt\",\n",
    "    theoGelb_file=\"Data_Theodolite/TheoGelb_20250829_124013.txt\",\n",
    "    date_str=\"2025-08-29\",\n",
    "    start_time_str=\"08:31:08\",\n",
    "    azimuth_offsetRot= 129.1787,\n",
    "    azimuth_offsetGelb= 51.8498\n",
    ")"
   ],
   "id": "24ae6cf72d5aafcb"
  },
  {
   "metadata": {
    "ExecuteTime": {
     "end_time": "2025-09-02T12:44:57.259062Z",
     "start_time": "2025-09-02T12:44:57.251967Z"
    }
   },
   "cell_type": "code",
   "source": [
    "# create a combined file for Lidar data on 2025-09-01\n",
    "'''\n",
    "files = [\"20250901_090000.nc\", \"20250901_100000.nc\", \"20250901_110000.nc\", \"20250901_120000.nc\", \"20250901_130000.nc\", \"20250901_140000.nc\"]\n",
    "\n",
    "folder = \"Data_Lidar/20250901\"\n",
    "file_paths = [os.path.join(folder, f) for f in files]\n",
    "\n",
    "# Öffnen und automatisch entlang der Dimension \"time\" kombinieren\n",
    "ds = xr.open_mfdataset(file_paths, combine='by_coords')\n",
    "\n",
    "# Ergebnis als neues NetCDF speichern\n",
    "ds.to_netcdf(\"Data_Lidar/20250901/combined_20250901.nc\")\n",
    "'''"
   ],
   "id": "14ed33fe53d2992",
   "outputs": [
    {
     "data": {
      "text/plain": [
       "'\\nfiles = [\"20250901_090000.nc\", \"20250901_100000.nc\", \"20250901_110000.nc\", \"20250901_120000.nc\", \"20250901_130000.nc\", \"20250901_140000.nc\"]\\n\\nfolder = \"Data_Lidar/20250901\"\\nfile_paths = [os.path.join(folder, f) for f in files]\\n\\n# Öffnen und automatisch entlang der Dimension \"time\" kombinieren\\nds = xr.open_mfdataset(file_paths, combine=\\'by_coords\\')\\n\\n# Ergebnis als neues NetCDF speichern\\nds.to_netcdf(\"Data_Lidar/20250901/combined_20250901.nc\")\\n'"
      ]
     },
     "execution_count": 20,
     "metadata": {},
     "output_type": "execute_result"
    }
   ],
   "execution_count": 20
  },
  {
   "metadata": {
    "ExecuteTime": {
     "end_time": "2025-09-02T12:46:44.229822Z",
     "start_time": "2025-09-02T12:46:44.225579Z"
    }
   },
   "cell_type": "code",
   "source": [
    "# create a combined file for Lidar data on 2025-08-27\n",
    "'''\n",
    "files = [\"20250827_080000.nc\", \"20250827_090000.nc\", \"20250827_100000.nc\", \"20250827_110000.nc\"]\n",
    "\n",
    "folder = \"Data_Lidar/20250827\"\n",
    "file_paths = [os.path.join(folder, f) for f in files]\n",
    "\n",
    "# Öffnen und automatisch entlang der Dimension \"time\" kombinieren\n",
    "ds = xr.open_mfdataset(file_paths, combine='by_coords')\n",
    "\n",
    "# Ergebnis als neues NetCDF speichern\n",
    "ds.to_netcdf(\"Data_Lidar/20250827/combined_20250827.nc\")\n",
    "'''"
   ],
   "id": "a187d83447ee1ada",
   "outputs": [
    {
     "data": {
      "text/plain": [
       "'\\nfiles = [\"20250827_080000.nc\", \"20250827_090000.nc\", \"20250827_100000.nc\", \"20250827_110000.nc\"]\\n\\nfolder = \"Data_Lidar/20250827\"\\nfile_paths = [os.path.join(folder, f) for f in files]\\n\\n# Öffnen und automatisch entlang der Dimension \"time\" kombinieren\\nds = xr.open_mfdataset(file_paths, combine=\\'by_coords\\')\\n\\n# Ergebnis als neues NetCDF speichern\\nds.to_netcdf(\"Data_Lidar/20250827/combined_20250827.nc\")\\n'"
      ]
     },
     "execution_count": 22,
     "metadata": {},
     "output_type": "execute_result"
    }
   ],
   "execution_count": 22
  },
  {
   "metadata": {
    "ExecuteTime": {
     "end_time": "2025-09-02T14:53:35.035060Z",
     "start_time": "2025-09-02T14:53:34.977651Z"
    }
   },
   "cell_type": "code",
   "source": [
    "# read data 2025-09-01\n",
    "# STILL ADD THE AZIMUTH CORRECTIONS!!!\n",
    "ds_lidar_cut_0901_period1, theo_interp_0901_period1 = process_lidar_2theodolite(\n",
    "    lidar_file=\"Data_Lidar/20250901/combined_20250901.nc\",\n",
    "    theoRot_file=\"Data_Theodolite/TheoRot_20250901_1st_period.txt\",\n",
    "    theoGelb_file=\"Data_Theodolite/TheoGelb_20250901_1st_period.txt\",\n",
    "    date_str=\"2025-09-01\",\n",
    "    start_time_str=\"09:03:20\",\n",
    "    azimuth_offsetRot= 0.0,\n",
    "    azimuth_offsetGelb= 0.0\n",
    ")\n",
    "ds_lidar_cut_0901_period2, theo_interp_0901_period2 = process_lidar_2theodolite(\n",
    "    lidar_file=\"Data_Lidar/20250901/combined_20250901.nc\",\n",
    "    theoRot_file=\"Data_Theodolite/TheoRot_20250901_2nd_period.txt\",\n",
    "    theoGelb_file=\"Data_Theodolite/TheoGelb_20250901_2nd_period.txt\",\n",
    "    date_str=\"2025-09-01\",\n",
    "    start_time_str=\"12:17:09\",\n",
    "    azimuth_offsetRot= 0.0,\n",
    "    azimuth_offsetGelb= 0.0\n",
    ")"
   ],
   "id": "67dbcc3a1db5d0f3",
   "outputs": [
    {
     "name": "stdout",
     "output_type": "stream",
     "text": [
      "Metadata: S 25/09/01 09:03:20\n",
      "Metadata: S 25/09/01 09:03:20\n",
      "Metadata: S 25/09/01 12:17:09\n",
      "Metadata: S 25/09/01 12:17:08\n"
     ]
    }
   ],
   "execution_count": 158
  },
  {
   "metadata": {
    "ExecuteTime": {
     "end_time": "2025-09-02T12:31:49.455708Z",
     "start_time": "2025-09-02T12:31:49.448520Z"
    }
   },
   "cell_type": "code",
   "source": [
    "# function to calculate the height from the pressure, with hydrostatic approximation\n",
    "def height_from_pressure(p2, p1=1007,rho=1.15, g=9.81):\n",
    "    dp = p1 - p2\n",
    "    dz = dp / (rho * g)\n",
    "    return dz"
   ],
   "id": "16c7bf00ad3e934e",
   "outputs": [],
   "execution_count": 16
  },
  {
   "metadata": {
    "ExecuteTime": {
     "end_time": "2025-09-02T13:43:37.821218Z",
     "start_time": "2025-09-02T13:43:37.638979Z"
    }
   },
   "cell_type": "code",
   "source": [
    "# read data\n",
    "df_ptu = pd.read_excel(\"Radiosonde/PtuResults.xlsx\")\n",
    "df_wxt = pd.read_csv(\"Data_WXT/20250827.txt\", skiprows=6, delimiter=';') # times in df_wxt are UTC + 1\n",
    "ds_lidar_0827 = xr.open_dataset(\"Data_Lidar/20250827/combined_20250827.nc\")"
   ],
   "id": "5e070affdfc1e998",
   "outputs": [],
   "execution_count": 109
  },
  {
   "metadata": {
    "ExecuteTime": {
     "end_time": "2025-09-02T13:43:37.996474Z",
     "start_time": "2025-09-02T13:43:37.982171Z"
    }
   },
   "cell_type": "code",
   "source": [
    "# convert time to datetime\n",
    "df_ptu['Time'] = pd.to_datetime(df_ptu['Time'][1:])\n",
    "\n",
    "# set time as index\n",
    "#df_ptu = df_ptu.set_index('Time')\n",
    "\n",
    "# interpolate PTU values to Lidar time steps\n",
    "\n",
    "# Crop to theodolite time range\n",
    "t_start, t_end = df_ptu['Time'].iloc[1], df_ptu['Time'].iloc[-1]\n",
    "ds_lidar_cut = ds_lidar_0827.sel(time=slice(t_start, t_end))\n",
    "lidar_idx = ds_lidar_cut['time']\n",
    "\n",
    "ds_ptu = df_ptu.to_xarray()\n",
    "ds_ptu = ds_ptu.set_coords(\"Time\")\n",
    "ds_ptu = ds_ptu.swap_dims({\"index\": \"Time\"})\n",
    "#ds_ptu = ds_ptu.sortby(\"Time\")\n",
    "#ds_ptu = ds_ptu.isel(Time=slice(0, -2))\n",
    "_, index = np.unique(ds_ptu[\"Time\"], return_index=True)\n",
    "ds_ptu = ds_ptu.isel(Time=index)\n",
    "ds_ptu = ds_ptu.drop_isel(Time=-1)\n",
    "ds_ptu = ds_ptu.rename({'Time': 'time'})\n",
    "\n",
    "# interpolation\n",
    "ds_ptu_interp = ds_ptu.interp(time=lidar_idx)"
   ],
   "id": "3fce2c599b5b824b",
   "outputs": [],
   "execution_count": 110
  },
  {
   "metadata": {
    "ExecuteTime": {
     "end_time": "2025-09-02T13:43:38.453446Z",
     "start_time": "2025-09-02T13:43:38.438943Z"
    }
   },
   "cell_type": "code",
   "source": [
    "# convert time in df_wxt data frame and select specific times\n",
    "date_str = \"2025-08-27\"\n",
    "datetime_strs = [f\"{date_str} {t}\" for t in df_wxt['TIME']]\n",
    "df_wxt['time_combined'] = pd.to_datetime(datetime_strs) # add new column\n",
    "df_wxt['time_combined'] = df_wxt['time_combined'] - pd.Timedelta(hours=1)\n",
    "\n",
    "start_time = t_start  # times in df_wxt are UTC + 1\n",
    "end_time   = t_end    # times in df_wxt are UTC + 1\n",
    "mask = (df_wxt['time_combined'] >= start_time) & (df_wxt['time_combined'] <= end_time)\n",
    "df_wxt_filtered = df_wxt.loc[mask]\n",
    "\n",
    "# interpolation\n",
    "ds_wxt_filtered = df_wxt_filtered.to_xarray()\n",
    "ds_wxt_filtered = ds_wxt_filtered.set_coords(\"time_combined\")\n",
    "ds_wxt_filtered = ds_wxt_filtered.swap_dims({\"index\": \"time_combined\"})\n",
    "ds_wxt_filtered = ds_wxt_filtered.rename({'time_combined': 'time'})\n",
    "\n",
    "# interpolation\n",
    "ds_wxt_interp = ds_wxt_filtered.interp(time=lidar_idx)"
   ],
   "id": "eb7ad5b7e52ea05b",
   "outputs": [],
   "execution_count": 111
  },
  {
   "metadata": {
    "ExecuteTime": {
     "end_time": "2025-09-02T13:47:41.368113Z",
     "start_time": "2025-09-02T13:47:41.350292Z"
    }
   },
   "cell_type": "code",
   "source": [
    "# calculate altitude with continous reference pressure\n",
    "altitude_cont = height_from_pressure(np.float64(ds_ptu_interp['Pressure'][:]), p1=ds_wxt_interp['PTB_P'][:])\n",
    "\n",
    "# save calculated altitude in a csv file\n",
    "df_alt_cont = pd.DataFrame({\n",
    "    \"time\": np.array(lidar_idx),\n",
    "    \"altitude\": np.array(altitude_cont) * 100\n",
    "})\n",
    "\n",
    "# Save to CSV\n",
    "df_alt_cont.to_csv(\"Data_Altitude/20250827_altitude_kite_from_wxt.csv\", index=False)"
   ],
   "id": "4cb24ea87fec2dc7",
   "outputs": [],
   "execution_count": 118
  },
  {
   "metadata": {},
   "cell_type": "code",
   "outputs": [],
   "execution_count": null,
   "source": [
    "# plot altitude from hydrostatic approximation\n",
    "fig = plt.figure()\n",
    "plt.plot(df_ptu[1:3683].index,height_from_pressure(df_ptu['Pressure'][1:3683])*100, '.-',markersize=0.5, label = r'$p_0$ = 1007 hPa')\n",
    "plt.plot(df_min['Time'][:61],altitude_cont*100, '.-', color='red',label = r'$p_0$ = p(WXT station)')\n",
    "plt.xlim(df_min['Time'][0], df_min['Time'][61])\n",
    "plt.gca().xaxis.set_major_formatter(mdates.DateFormatter('%H:%M'))\n",
    "plt.ylim(0,100)\n",
    "plt.title(r'Kite altitude calculated from hydrostatic equation, 2025-08-27')\n",
    "plt.ylabel('Altitude above reference level (m)')\n",
    "plt.xlabel('Time (UTC)')\n",
    "plt.legend()\n",
    "plt.show()\n",
    "fig.savefig('Plots/20250827_Radiosonde_altitude.png', dpi=300)"
   ],
   "id": "8716472472000dc9"
  },
  {
   "metadata": {
    "ExecuteTime": {
     "end_time": "2025-09-02T11:54:12.953527Z",
     "start_time": "2025-09-02T11:54:12.943941Z"
    }
   },
   "cell_type": "code",
   "source": [
    "### ---- Define parameters here -------\n",
    "height_value = 60 # m\n",
    "bin_size = 5 # deg\n",
    "### create dataframes of each measurement period\n",
    "df1 = pd.DataFrame({\n",
    "    'elevation': theo_27_09_1['elevation'].values,\n",
    "    'wind_speed': VEL_27_09_1['VEL'].sel(height=height_value).values\n",
    "})\n",
    "df2 = pd.DataFrame({\n",
    "    'elevation': theo_27_09_2['elevation'].values,\n",
    "    'wind_speed': VEL_27_09_2['VEL'].sel(height=height_value).values\n",
    "})\n",
    "\n",
    "df3 = pd.DataFrame({\n",
    "    'elevation': theo_interp_0829['elevation'].values,\n",
    "    'wind_speed': ds_lidar_cut_0829['VEL'].sel(height=height_value).values\n",
    "})\n",
    "\n",
    "df4 = pd.DataFrame({\n",
    "    'elevation': theo_interp_0901_period1['elevation'].values,\n",
    "    'wind_speed': ds_lidar_cut_0901_period1['VEL'].sel(height=height_value).values\n",
    "})\n",
    "\n",
    "df5 = pd.DataFrame({\n",
    "    'elevation': theo_interp_0901_period2['elevation'].values,\n",
    "    'wind_speed': ds_lidar_cut_0901_period2['VEL'].sel(height=height_value).values\n",
    "})\n",
    "### just add more dataframes for more days/measurement periods\n",
    "\n",
    "# Combine all\n",
    "df_all = pd.concat([df1, df2, df3, df4, df5], ignore_index=True)\n"
   ],
   "id": "46b34d46a137e5de",
   "outputs": [],
   "execution_count": 12
  },
  {
   "metadata": {
    "ExecuteTime": {
     "end_time": "2025-09-02T11:54:17.214384Z",
     "start_time": "2025-09-02T11:54:17.208998Z"
    }
   },
   "cell_type": "code",
   "source": [
    "bins = np.arange(0, 91, bin_size)\n",
    "labels = [f\"{int(bins[i])}-{int(bins[i+1])}\" for i in range(len(bins)-1)] ### pretty labels\n",
    "\n",
    "# Elevation in bins\n",
    "df_all['elev_bin'] = pd.cut(df_all['elevation'], bins=bins, labels=labels, include_lowest=True)"
   ],
   "id": "eaa14d51f18fc05",
   "outputs": [],
   "execution_count": 13
  },
  {
   "metadata": {},
   "cell_type": "code",
   "outputs": [],
   "execution_count": null,
   "source": [
    "plt.figure(figsize=(12,6))\n",
    "sns.boxplot(x='elev_bin', y='wind_speed', data=df_all, color='r')\n",
    "\n",
    "plt.xlabel('Elevation angle [°]')\n",
    "plt.ylabel('Wind speed [m/s]')\n",
    "plt.title(f'Wind speed (at {height_value} m) vs. theodolite elevation angle, bin size = {bin_size}°')\n",
    "plt.xticks(rotation=45)\n",
    "plt.ylim(0, 10)\n",
    "\n",
    "# Show data points per bin\n",
    "counts = df_all.groupby('elev_bin').size()\n",
    "ax = plt.gca()\n",
    "for i, bin_label in enumerate(labels):\n",
    "    ax.text(i, 1.2, str(counts.get(bin_label,0)), ha='center', va='bottom', fontsize=15)\n",
    "\n",
    "plt.tight_layout()\n",
    "plt.show()\n"
   ],
   "id": "1cad3f716bc6cc02"
  },
  {
   "metadata": {},
   "cell_type": "code",
   "outputs": [],
   "execution_count": null,
   "source": "",
   "id": "c4825c8708c19d6c"
  }
 ],
 "metadata": {
  "kernelspec": {
   "name": "python3",
   "language": "python",
   "display_name": "Python 3 (ipykernel)"
  }
 },
 "nbformat": 5,
 "nbformat_minor": 9
}

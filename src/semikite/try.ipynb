{
 "cells": [
  {
   "metadata": {
    "ExecuteTime": {
     "end_time": "2025-08-26T14:36:58.628910Z",
     "start_time": "2025-08-26T14:36:58.623851Z"
    }
   },
   "cell_type": "code",
   "source": [
    "import pickle\n",
    "import sys\n",
    "import numpy as np\n",
    "from collections import Counter\n",
    "\n",
    "sys.path.append(\"../autokite\")\n",
    "with open(\"../autokite/coordinates.pckl\", \"rb\") as f:\n",
    "    coordinates_autokite = pickle.load(f)\n",
    "with open(\"../semikite/coordinates_semikite.pckl\", \"rb\") as f:\n",
    "    coordinates_semikite = pickle.load(f)\n",
    "with open(\"../semikite/coordinates_semikite_yx.pckl\", \"rb\") as f:\n",
    "    coordinates_semikite_yx = pickle.load(f)"
   ],
   "id": "61a23cc54a411018",
   "outputs": [],
   "execution_count": 72
  },
  {
   "metadata": {
    "ExecuteTime": {
     "end_time": "2025-08-26T14:40:55.601725Z",
     "start_time": "2025-08-26T14:40:55.599707Z"
    }
   },
   "cell_type": "code",
   "source": [
    "# isolate the timestamps\n",
    "times = coordinates_autokite.index.tolist()"
   ],
   "id": "674ac7fe9af63078",
   "outputs": [],
   "execution_count": 74
  },
  {
   "metadata": {
    "ExecuteTime": {
     "end_time": "2025-08-26T14:47:29.759654Z",
     "start_time": "2025-08-26T14:47:29.756184Z"
    }
   },
   "cell_type": "code",
   "source": [
    "# delete images where we didn't see a kite in the semikite code\n",
    "times_kite_found = []\n",
    "for time in times:\n",
    "    coords2 = coordinates_semikite_yx.loc[time, \"coordinates\"]\n",
    "    x2, y2 = coords2\n",
    "    if (x2 > 15) and (y2 > 15):\n",
    "        times_kite_found.append(time)"
   ],
   "id": "38ec256d59d6bc45",
   "outputs": [],
   "execution_count": 80
  },
  {
   "metadata": {
    "ExecuteTime": {
     "end_time": "2025-08-26T14:33:27.126621Z",
     "start_time": "2025-08-26T14:33:27.121575Z"
    }
   },
   "cell_type": "code",
   "source": [
    "# check for True and False for all times\n",
    "equality = dict((time,0) for time in times)\n",
    "for time in times:\n",
    "    coords1 = coordinates_autokite.loc[time, \"coordinates\"]\n",
    "    x1, y1 = coords1\n",
    "    coords2 = coordinates_semikite_yx.loc[time, \"coordinates\"]\n",
    "    x2, y2 = coords2\n",
    "    diff_x = x1 - x2\n",
    "    diff_y = y1 - y2\n",
    "    if (np.absolute(diff_x) < 10) & (np.absolute(diff_y) < 10):\n",
    "        equality[time] = True\n",
    "    else:\n",
    "        equality[time] = False"
   ],
   "id": "eb92f0d26bd14736",
   "outputs": [],
   "execution_count": 70
  },
  {
   "metadata": {
    "ExecuteTime": {
     "end_time": "2025-08-26T14:33:27.900732Z",
     "start_time": "2025-08-26T14:33:27.896992Z"
    }
   },
   "cell_type": "code",
   "source": [
    "# count True and False values for all times\n",
    "counts = Counter(equality.values())\n",
    "print(counts)"
   ],
   "id": "16cbe7741c7c51b6",
   "outputs": [
    {
     "name": "stdout",
     "output_type": "stream",
     "text": [
      "Counter({True: 42, False: 18})\n"
     ]
    }
   ],
   "execution_count": 71
  },
  {
   "metadata": {
    "ExecuteTime": {
     "end_time": "2025-08-26T14:51:55.122377Z",
     "start_time": "2025-08-26T14:51:55.117353Z"
    }
   },
   "cell_type": "code",
   "source": [
    "# check for True and False for all times where we clicked on a kite (in semikite)\n",
    "equality_kite_found = dict((time,0) for time in times)\n",
    "for time in times:\n",
    "    if time in times_kite_found:\n",
    "        coords1 = coordinates_autokite.loc[time, \"coordinates\"]\n",
    "        x1, y1 = coords1\n",
    "        coords2 = coordinates_semikite_yx.loc[time, \"coordinates\"]\n",
    "        x2, y2 = coords2\n",
    "        diff_x = x1 - x2\n",
    "        diff_y = y1 - y2\n",
    "        if (np.absolute(diff_x) < 10) & (np.absolute(diff_y) < 10):\n",
    "            equality_kite_found[time] = True\n",
    "        else:\n",
    "            equality_kite_found[time] = False\n",
    "    else:\n",
    "        equality_kite_found.pop(time, None)"
   ],
   "id": "e5238190ff0302c0",
   "outputs": [],
   "execution_count": 87
  },
  {
   "metadata": {
    "ExecuteTime": {
     "end_time": "2025-08-26T14:52:22.491448Z",
     "start_time": "2025-08-26T14:52:22.488257Z"
    }
   },
   "cell_type": "code",
   "source": [
    "# count True and False values for kite found times\n",
    "counts = Counter(equality_kite_found.values())\n",
    "print(counts)"
   ],
   "id": "55ba047999062a2",
   "outputs": [
    {
     "name": "stdout",
     "output_type": "stream",
     "text": [
      "Counter({True: 42, False: 6})\n"
     ]
    }
   ],
   "execution_count": 89
  },
  {
   "metadata": {
    "ExecuteTime": {
     "end_time": "2025-08-26T14:53:14.721038Z",
     "start_time": "2025-08-26T14:53:14.718373Z"
    }
   },
   "cell_type": "code",
   "source": "42/48",
   "id": "5f5cb7de94b25059",
   "outputs": [
    {
     "data": {
      "text/plain": [
       "0.875"
      ]
     },
     "execution_count": 91,
     "metadata": {},
     "output_type": "execute_result"
    }
   ],
   "execution_count": 91
  }
 ],
 "metadata": {
  "kernelspec": {
   "name": "python3",
   "language": "python",
   "display_name": "Python 3 (ipykernel)"
  }
 },
 "nbformat": 5,
 "nbformat_minor": 9
}

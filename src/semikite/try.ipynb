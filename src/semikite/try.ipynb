{
 "cells": [
  {
   "metadata": {
    "ExecuteTime": {
     "end_time": "2025-08-26T13:35:05.113974Z",
     "start_time": "2025-08-26T13:35:05.108790Z"
    }
   },
   "cell_type": "code",
   "source": [
    "import pickle\n",
    "import sys\n",
    "sys.path.append(\"../autokite\")\n",
    "with open(\"../autokite/coordinates.pckl\", \"rb\") as f:\n",
    "    coordinates_autokite = pickle.load(f)\n",
    "with open(\"../semikite/coordinates_semikite.pckl\", \"rb\") as f:\n",
    "    coordinates_semikite = pickle.load(f)"
   ],
   "id": "61a23cc54a411018",
   "outputs": [],
   "execution_count": 25
  },
  {
   "metadata": {
    "ExecuteTime": {
     "end_time": "2025-08-26T13:35:34.850621Z",
     "start_time": "2025-08-26T13:35:34.846540Z"
    }
   },
   "cell_type": "code",
   "source": "type(coordinates_autokite.coordinates)",
   "id": "d7dcd84f8c92be74",
   "outputs": [
    {
     "data": {
      "text/plain": [
       "pandas.core.series.Series"
      ]
     },
     "execution_count": 31,
     "metadata": {},
     "output_type": "execute_result"
    }
   ],
   "execution_count": 31
  },
  {
   "metadata": {
    "ExecuteTime": {
     "end_time": "2025-08-26T13:35:32.267573Z",
     "start_time": "2025-08-26T13:35:32.263611Z"
    }
   },
   "cell_type": "code",
   "source": "type(coordinates_semikite.coordinates)",
   "id": "81320880c21d0941",
   "outputs": [
    {
     "data": {
      "text/plain": [
       "pandas.core.series.Series"
      ]
     },
     "execution_count": 30,
     "metadata": {},
     "output_type": "execute_result"
    }
   ],
   "execution_count": 30
  },
  {
   "metadata": {},
   "cell_type": "code",
   "outputs": [],
   "execution_count": null,
   "source": "",
   "id": "329431feb2097ca2"
  }
 ],
 "metadata": {
  "kernelspec": {
   "name": "python3",
   "language": "python",
   "display_name": "Python 3 (ipykernel)"
  }
 },
 "nbformat": 5,
 "nbformat_minor": 9
}
